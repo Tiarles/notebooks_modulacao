{
 "cells": [
  {
   "cell_type": "markdown",
   "metadata": {},
   "source": [
    "# Trabalho 3 da disciplina de modulação\n",
    "Perdas no ferro do indutor\n",
    "\n",
    "## Importando ondas do PSIM"
   ]
  },
  {
   "cell_type": "code",
   "execution_count": 1,
   "metadata": {},
   "outputs": [],
   "source": [
    "import pandas as pd\n",
    "import numpy as np\n",
    "import matplotlib.pyplot as plt\n",
    "import mpld3\n",
    "# mpld3.enable_notebook()\n",
    "# mpld3.disable_notebook()"
   ]
  },
  {
   "cell_type": "code",
   "execution_count": 2,
   "metadata": {},
   "outputs": [],
   "source": [
    "df = pd.read_csv(\"lossesHalfBridge.csv\")\n",
    "df = df.set_index('Time')"
   ]
  },
  {
   "cell_type": "code",
   "execution_count": 3,
   "metadata": {},
   "outputs": [
    {
     "data": {
      "text/plain": [
       "45.3903"
      ]
     },
     "execution_count": 3,
     "metadata": {},
     "output_type": "execute_result"
    }
   ],
   "source": [
    "VL1  = df['VL1'].max(); VL1"
   ]
  },
  {
   "cell_type": "code",
   "execution_count": 4,
   "metadata": {},
   "outputs": [
    {
     "data": {
      "text/plain": [
       "0.5004950227710475"
      ]
     },
     "execution_count": 4,
     "metadata": {},
     "output_type": "execute_result"
    }
   ],
   "source": [
    "d = df['Vsa1'].mean(); d"
   ]
  },
  {
   "cell_type": "code",
   "execution_count": 5,
   "metadata": {},
   "outputs": [],
   "source": [
    "mm = 1e-3\n",
    "mm2 = 1e-3**2\n",
    "u = 1e-6\n",
    "k = 1e3"
   ]
  },
  {
   "cell_type": "code",
   "execution_count": 6,
   "metadata": {},
   "outputs": [],
   "source": [
    "L_tor = 50*u\n",
    "R = 1"
   ]
  },
  {
   "cell_type": "markdown",
   "metadata": {},
   "source": [
    "## Inductor calculations (toroidal)\n",
    "\n",
    "![](images/toroidal.jpg)"
   ]
  },
  {
   "cell_type": "code",
   "execution_count": 8,
   "metadata": {},
   "outputs": [],
   "source": [
    "mu0 = 400*np.pi*1e-9\n",
    "\n",
    "N = 50\n",
    "A = 74.19*mm2\n",
    "r = np.sqrt(A/np.pi)\n",
    "l = 61.24*mm\n",
    "\n",
    "# L_tor = u*N**2*r**2/(2*R); L_tor\n",
    "Raio = mu0*N**2*r**2/(2*L_tor)"
   ]
  },
  {
   "cell_type": "code",
   "execution_count": 9,
   "metadata": {},
   "outputs": [
    {
     "name": "stdout",
     "output_type": "stream",
     "text": [
      "Material: Iron Powder Compressed\n",
      "density of material:  7043803.6539731445 g/mm³\n"
     ]
    }
   ],
   "source": [
    "print(\"Material: Iron Powder Compressed\")\n",
    "\n",
    "Ve = 4543*mm**3\n",
    "M = 32 # g\n",
    "\n",
    "fs = 50*k\n",
    "Vi = 50\n",
    "\n",
    "pho_core = M / Ve\n",
    "\n",
    "print('density of material: ', pho_core, 'g/mm³')"
   ]
  },
  {
   "cell_type": "code",
   "execution_count": 11,
   "metadata": {},
   "outputs": [
    {
     "data": {
      "text/plain": [
       "0.1224834572426725"
      ]
     },
     "execution_count": 11,
     "metadata": {},
     "output_type": "execute_result"
    }
   ],
   "source": [
    "deltaB = (VL1 * d)/(N * fs * A); deltaB"
   ]
  },
  {
   "cell_type": "code",
   "execution_count": 12,
   "metadata": {},
   "outputs": [
    {
     "data": {
      "text/plain": [
       "97469.23833578067"
      ]
     },
     "execution_count": 12,
     "metadata": {},
     "output_type": "execute_result"
    }
   ],
   "source": [
    "deltaH = (VL1 * d)/(mu0 * N * fs * A); deltaH"
   ]
  },
  {
   "cell_type": "code",
   "execution_count": 15,
   "metadata": {},
   "outputs": [
    {
     "data": {
      "text/plain": [
       "20431.704064788024"
      ]
     },
     "execution_count": 15,
     "metadata": {},
     "output_type": "execute_result"
    }
   ],
   "source": [
    "H0 = (N*d*Vi)/(R*l); H0 "
   ]
  },
  {
   "cell_type": "code",
   "execution_count": null,
   "metadata": {},
   "outputs": [],
   "source": []
  },
  {
   "cell_type": "markdown",
   "metadata": {},
   "source": [
    "## First method by: Creating the loss map of magnetic material\n",
    "\n",
    "![](images/A_novel_Fig2.jpg)"
   ]
  },
  {
   "cell_type": "code",
   "execution_count": 16,
   "metadata": {},
   "outputs": [],
   "source": [
    "# Points obtainde from the Fig. 2\n",
    "\n",
    "dH = {2600: [(-12.289,183.66),(1187.1,109.38),(2804.4,50.625),(4505.3,26.339),(6535.5,16.429)],\n",
    "     2050: [(-11.954,114.19),(1197.7,58.045),(2825.8,31.055),(4523.2,16.176),(6526.6,11.159)],\n",
    "     1530: [(-7.1721,56.228),(1197.7,30.969),(2813.9,18.512),(4523.2,11.246),(6543.4,5.9689)],\n",
    "     1080: [(-2.3907,24.74),(1200.1,16.263),(2818.6,10.64),(4518.4,7.0934),(6531.4,5.7093)]}\n",
    "\n",
    "dB = {400: [(-16.735,106.14),(1193,109.86),(2811.5,120.76),(4518.4,131.23),(6517.1,138.15)],\n",
    "     286: [(-4.7814,58.045),(1195.4,58.045),(2809.1,64.446),(4520.8,73.702),(6529,74.135)],\n",
    "     200: [(0,30.882),(1193,31.142),(2813.9,34.256),(4518.4,38.668),(6529,40.744)],\n",
    "     133: [(-4.7814,16.09),(1212.1,16.349),(2821,18.685),(4523.2,17.82),(6533.8,17.993)]}"
   ]
  },
  {
   "cell_type": "code",
   "execution_count": 17,
   "metadata": {},
   "outputs": [],
   "source": [
    "poly_dH = {}\n",
    "coord_dH = {}\n",
    "\n",
    "for key, tuples in dH.items():\n",
    "    zip_coord = []\n",
    "    for coord in zip(*tuples):\n",
    "        zip_coord.append(coord)\n",
    "    coord_dH[key] = zip_coord\n",
    "    poly = np.poly1d(np.polyfit(zip_coord[0], zip_coord[1], 2))\n",
    "    poly_dH[key] = poly"
   ]
  },
  {
   "cell_type": "code",
   "execution_count": 18,
   "metadata": {},
   "outputs": [],
   "source": [
    "poly_dB = {}\n",
    "coord_dB = {}\n",
    "\n",
    "for key, tuples in dB.items():\n",
    "    zip_coord = []\n",
    "    for coord in zip(*tuples):\n",
    "        zip_coord.append(coord)\n",
    "    coord_dB[key] = zip_coord\n",
    "    poly = np.poly1d(np.polyfit(zip_coord[0], zip_coord[1], 2))\n",
    "    poly_dB[key] = poly"
   ]
  },
  {
   "cell_type": "code",
   "execution_count": 19,
   "metadata": {},
   "outputs": [
    {
     "data": {
      "image/png": "[encoded data removed]",
      "text/plain": [
       "<Figure size 432x288 with 1 Axes>"
      ]
     },
     "metadata": {
      "needs_background": "light"
     },
     "output_type": "display_data"
    },
    {
     "data": {
      "image/png": "[encoded data removed]",
      "text/plain": [
       "<Figure size 432x288 with 1 Axes>"
      ]
     },
     "metadata": {
      "needs_background": "light"
     },
     "output_type": "display_data"
    }
   ],
   "source": [
    "import matplotlib.pyplot as plt\n",
    "\n",
    "markers = ['o', 'x', 'd', '+']\n",
    "x = np.linspace(0, 6500)\n",
    "\n",
    "for key, m in zip(poly_dH, markers):\n",
    "    poly = poly_dH[key]\n",
    "    y = poly(x)\n",
    "    p = plt.plot(x, y, 'k--')\n",
    "    plt.plot(coord_dH[key][0], coord_dH[key][1], 'k%s ' % m, label='$\\Delta H$ = %d' % key)\n",
    "plt.title('$\\Delta H$ const.')\n",
    "plt.legend(framealpha=.3)\n",
    "plt.show()\n",
    "\n",
    "for key, m in zip(poly_dB, markers):\n",
    "    poly = poly_dB[key]\n",
    "    y = poly(x)\n",
    "    plt.plot(x, y, 'k-')\n",
    "    plt.plot(coord_dB[key][0], coord_dB[key][1], 'k%s ' % m, label='$\\Delta B$ = %d' % key)\n",
    "plt.title('$\\Delta B$ const.')\n",
    "plt.legend(framealpha=.3)\n",
    "plt.show()"
   ]
  },
  {
   "cell_type": "code",
   "execution_count": 29,
   "metadata": {},
   "outputs": [
    {
     "data": {
      "text/plain": [
       "133"
      ]
     },
     "execution_count": 29,
     "metadata": {},
     "output_type": "execute_result"
    }
   ],
   "source": [
    "# Checking the deltaB mapped more closelly to the calculated\n",
    "\n",
    "keys_poly_dB = np.array(list(poly_dB.keys()))\n",
    "\n",
    "deltaB_more_closely_ind = np.argmin(keys_poly_dB*1e-3 - deltaB)\n",
    "deltaB_more_closely = keys_poly_dB[deltaB_more_closely_ind]; deltaB_more_closely"
   ]
  },
  {
   "cell_type": "code",
   "execution_count": 33,
   "metadata": {},
   "outputs": [
    {
     "data": {
      "text/plain": [
       "-8.936641341812194"
      ]
     },
     "execution_count": 33,
     "metadata": {},
     "output_type": "execute_result"
    }
   ],
   "source": [
    "poly_more_closely = poly_dB[deltaB_more_closely]\n",
    "power_loss = poly_more_closely(H0); power_loss"
   ]
  },
  {
   "cell_type": "markdown",
   "metadata": {},
   "source": [
    "## Second method: "
   ]
  },
  {
   "cell_type": "code",
   "execution_count": null,
   "metadata": {},
   "outputs": [],
   "source": [
    "P = 2 * Ve * fo * np.sum(S)"
   ]
  }
 ],
 "metadata": {
  "kernelspec": {
   "display_name": "Python 3",
   "language": "python",
   "name": "python3"
  },
  "language_info": {
   "codemirror_mode": {
    "name": "ipython",
    "version": 3
   },
   "file_extension": ".py",
   "mimetype": "text/x-python",
   "name": "python",
   "nbconvert_exporter": "python",
   "pygments_lexer": "ipython3",
   "version": "3.7.4"
  }
 },
 "nbformat": 4,
 "nbformat_minor": 2
}
