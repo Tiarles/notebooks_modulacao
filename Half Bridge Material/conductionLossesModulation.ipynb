{
 "cells": [
  {
   "cell_type": "markdown",
   "metadata": {},
   "source": [
    "# Conduction Power"
   ]
  },
  {
   "cell_type": "code",
   "execution_count": 1,
   "metadata": {},
   "outputs": [],
   "source": [
    "import numpy as np\n",
    "import pandas as pd\n",
    "import mpld3\n",
    "import matplotlib.pyplot as plt\n",
    "\n",
    "mpld3.enable_notebook()"
   ]
  },
  {
   "cell_type": "code",
   "execution_count": 2,
   "metadata": {},
   "outputs": [],
   "source": [
    "df_waves = pd.read_csv('lossesHalfBridge.csv')\n",
    "df_waves = df_waves.set_index('Time')\n",
    "\n",
    "time   = df_waves.index\n",
    "pwm_s1 = df_waves['Vsa1']\n",
    "Iout   = df_waves['Iout']"
   ]
  },
  {
   "cell_type": "code",
   "execution_count": 3,
   "metadata": {},
   "outputs": [],
   "source": [
    "from halfBridgeModule import rmsValue, conductionLosesHalfBridge"
   ]
  },
  {
   "cell_type": "markdown",
   "metadata": {},
   "source": [
    "## Generating the signals for test"
   ]
  },
  {
   "cell_type": "code",
   "execution_count": 4,
   "metadata": {},
   "outputs": [
    {
     "name": "stdout",
     "output_type": "stream",
     "text": [
      "WARNING: Vce_IGBT, Vf_Diode, Rce_IGBT, Rf_Diode are fantasy values!\n"
     ]
    },
    {
     "data": {
      "text/plain": [
       "{'S1': 162.5986695542171,\n",
       " 'S2': 162.53637031090966,\n",
       " 'D1': 0.05246942042374049,\n",
       " 'D2': 0.052518766271143366}"
      ]
     },
     "execution_count": 4,
     "metadata": {},
     "output_type": "execute_result"
    }
   ],
   "source": [
    "Vce_IGBT = 2.5\n",
    "Vf_Diode = 3.8e-3\n",
    "Rce_IGBT = 1.8\n",
    "Rf_Diode = 3e-3\n",
    "\n",
    "print('WARNING: Vce_IGBT, Vf_Diode, Rce_IGBT, Rf_Diode are fantasy values!')\n",
    "\n",
    "P_cd = conductionLosesHalfBridge(pwm_s1, Iout, Vce_IGBT, Vf_Diode, Rce_IGBT, Rf_Diode)\n",
    "P_cd"
   ]
  },
  {
   "cell_type": "markdown",
   "metadata": {},
   "source": [
    "## Resultado Final, as perdas em comutação para cada uma dos semicondutores, em Watts"
   ]
  },
  {
   "cell_type": "code",
   "execution_count": 5,
   "metadata": {},
   "outputs": [
    {
     "data": {
      "image/png": "[encoded data removed]",
      "text/plain": [
       "<Figure size 432x288 with 1 Axes>"
      ]
     },
     "metadata": {
      "needs_background": "light"
     },
     "output_type": "display_data"
    }
   ],
   "source": [
    "mpld3.disable_notebook()\n",
    "\n",
    "x = np.arange(4)\n",
    "plt.bar(x, P_cd.values(), color =['red', 'green', 'yellow', 'blue'])\n",
    "plt.xticks(x, P_cd.keys())\n",
    "plt.ylabel('$P [w]$')\n",
    "plt.xlabel('Semiconductors')\n",
    "plt.grid()\n",
    "plt.title('Conduction Losses (Half-Bridge)')\n",
    "plt.show()\n",
    "\n",
    "mpld3.enable_notebook()"
   ]
  },
  {
   "cell_type": "code",
   "execution_count": null,
   "metadata": {},
   "outputs": [],
   "source": []
  }
 ],
 "metadata": {
  "kernelspec": {
   "display_name": "Python 3",
   "language": "python",
   "name": "python3"
  },
  "language_info": {
   "codemirror_mode": {
    "name": "ipython",
    "version": 3
   },
   "file_extension": ".py",
   "mimetype": "text/x-python",
   "name": "python",
   "nbconvert_exporter": "python",
   "pygments_lexer": "ipython3",
   "version": "3.6.8"
  }
 },
 "nbformat": 4,
 "nbformat_minor": 2
}
