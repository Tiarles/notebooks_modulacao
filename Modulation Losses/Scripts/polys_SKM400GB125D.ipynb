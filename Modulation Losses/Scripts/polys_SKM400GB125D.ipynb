{
 "cells": [
  {
   "cell_type": "markdown",
   "metadata": {},
   "source": [
    "# Perdas de Comutação e Condução\n",
    "## Disciplina de Modulação - Profº Humberto Pinheiro - 2019/2\n",
    "**Autor:** Tiarles da Rocha Moralles Guterres (Engenheiro de Computação (UFSM))\n",
    "\n",
    "* **Componente:** Ultra Fast IGBT Modules SKM400GB125D\n",
    "    * 1200 V\n",
    "    * 400 A"
   ]
  },
  {
   "cell_type": "code",
   "execution_count": 2,
   "metadata": {},
   "outputs": [],
   "source": [
    "import numpy as np\n",
    "import matplotlib.pyplot as plt"
   ]
  },
  {
   "cell_type": "code",
   "execution_count": 3,
   "metadata": {},
   "outputs": [],
   "source": [
    "from halfBridgeModule import getPolyFromPoints"
   ]
  },
  {
   "cell_type": "markdown",
   "metadata": {},
   "source": [
    "### 1. Listas com os valores obtidos pelo LTSpice de energia"
   ]
  },
  {
   "cell_type": "code",
   "execution_count": 4,
   "metadata": {},
   "outputs": [],
   "source": [
    "currentValues_On = [77.344, 494.92, 397.66, 316.8, 216.8, 457.42]\n",
    "energyOn   = [10.128, 59.646, 41.073, 31.624, 21.555, 50.994]\n",
    "\n",
    "currentValues_Off = [76.953, 601.56, 440.63, 317.58, 516.41]\n",
    "energyOff  = [5.9646, 42.756, 29.026, 21.85, 35.079]\n",
    "\n",
    "currentValues_Rec = [77.734, 600.39, 317.19, 436.33, 192.58]\n",
    "energyRec  = [7.4409, 20.846,  17.333,  19.872, 13.169]\n",
    "\n",
    "energyOn  = np.array(energyOn)  / 1e3\n",
    "energyOff = np.array(energyOff) / 1e3\n",
    "energyRec = np.array(energyRec) / 1e3"
   ]
  },
  {
   "cell_type": "markdown",
   "metadata": {},
   "source": [
    "### 2. Obtenção dos parâmetros e dos polinômios"
   ]
  },
  {
   "cell_type": "code",
   "execution_count": 5,
   "metadata": {},
   "outputs": [],
   "source": [
    "p_energyOn   = getPolyFromPoints(currentValues_On, energyOn, 3)\n",
    "p_energyOff  = getPolyFromPoints(currentValues_Off, energyOff, 3)\n",
    "p_energyRec  = getPolyFromPoints(currentValues_Rec, energyRec, 3)\n",
    "p_energyD_On = None"
   ]
  },
  {
   "cell_type": "markdown",
   "metadata": {},
   "source": [
    "### 3. Plot dos polinômios gerados"
   ]
  },
  {
   "cell_type": "code",
   "execution_count": 8,
   "metadata": {},
   "outputs": [
    {
     "data": {
      "image/png": "[encoded data removed]",
      "text/plain": [
       "<Figure size 432x288 with 1 Axes>"
      ]
     },
     "metadata": {
      "needs_background": "light"
     },
     "output_type": "display_data"
    }
   ],
   "source": [
    "current = np.linspace(50, 700, 700*2)\n",
    "\n",
    "plt.plot(current, p_energyOn(current)*1e3, 'b-', label='$\\epsilon_{ON}$')\n",
    "plt.plot(currentValues_On, energyOn*1e3, 'bo ')\n",
    "plt.plot(current, p_energyOff(current)*1e3, 'r-', label='$\\epsilon_{OFF}$')\n",
    "plt.plot(currentValues_Off, energyOff*1e3, 'ro ')\n",
    "plt.plot(current, p_energyRec(current)*1e3, 'g-', label='$\\epsilon_{REC}$')\n",
    "plt.plot(currentValues_Rec, energyRec*1e3, 'go ')\n",
    "# plt.plot(current, p_energyD_On(current), 'y-', label='$\\epsilon_{D, ON}$')\n",
    "# plt.plot(currentValues, energyD_On, 'yo ')\n",
    "plt.legend()\n",
    "plt.title('Equações de perdas em comutação')\n",
    "plt.xlabel('$I_c$ [A]')\n",
    "plt.ylabel('Energy [mj]')\n",
    "plt.grid()\n",
    "plt.show()"
   ]
  },
  {
   "cell_type": "markdown",
   "metadata": {},
   "source": [
    "![](IGBT_polys.jpg)"
   ]
  },
  {
   "cell_type": "markdown",
   "metadata": {},
   "source": [
    "### 4. Salvando equações num ``pickle`` para uso em outro script"
   ]
  },
  {
   "cell_type": "code",
   "execution_count": 11,
   "metadata": {},
   "outputs": [],
   "source": [
    "import pickle\n",
    "\n",
    "to_save = {'name': 'SKM400GB125D', 'type': 'IGBT','eon': p_energyOn, 'eoff': p_energyOff, 'erec': p_energyRec, 'eDon': p_energyD_On}\n",
    "\n",
    "with open('models/SKM400GB125D.pklmod', 'wb') as filep:\n",
    "    pickle.dump(to_save, filep)"
   ]
  },
  {
   "cell_type": "code",
   "execution_count": null,
   "metadata": {},
   "outputs": [],
   "source": []
  },
  {
   "cell_type": "code",
   "execution_count": null,
   "metadata": {},
   "outputs": [],
   "source": []
  }
 ],
 "metadata": {
  "kernelspec": {
   "display_name": "Python 3",
   "language": "python",
   "name": "python3"
  },
  "language_info": {
   "codemirror_mode": {
    "name": "ipython",
    "version": 3
   },
   "file_extension": ".py",
   "mimetype": "text/x-python",
   "name": "python",
   "nbconvert_exporter": "python",
   "pygments_lexer": "ipython3",
   "version": "3.7.4"
  }
 },
 "nbformat": 4,
 "nbformat_minor": 2
}
