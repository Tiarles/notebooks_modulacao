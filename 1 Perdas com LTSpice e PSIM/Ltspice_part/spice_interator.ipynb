{
 "cells": [
  {
   "cell_type": "code",
   "execution_count": 1,
   "metadata": {},
   "outputs": [],
   "source": [
    "import os\n",
    "import numpy as np\n",
    "import pickle"
   ]
  },
  {
   "cell_type": "code",
   "execution_count": 30,
   "metadata": {},
   "outputs": [],
   "source": [
    "simulation_dir = './'\n",
    "schem_name = 'Abaixador_rv00.asc'\n",
    "\n",
    "spice_models_path = r'.\\spice_models\\{filename}\\{filename}.lib'\n",
    "models = ['IXDH20N120', 'IXGP16N60C2', 'IXGR40N60C2', 'IXGT40N60C2']\n",
    "\n",
    "currents = np.concatenate([np.arange(-70, -10, 30), np.arange(10, 70, 30)])"
   ]
  },
  {
   "cell_type": "code",
   "execution_count": 31,
   "metadata": {},
   "outputs": [],
   "source": [
    "with open(simulation_dir+schem_name, 'r') as fasc:\n",
    "    sch = fasc.read()"
   ]
  },
  {
   "cell_type": "code",
   "execution_count": 32,
   "metadata": {},
   "outputs": [],
   "source": [
    "def clear_folder(folder):\n",
    "    import shutil\n",
    "    import os\n",
    "    try:\n",
    "        shutil.rmtree(folder)\n",
    "    except FileNotFoundError:\n",
    "        pass\n",
    "\n",
    "    os.makedirs(folder)\n",
    "\n",
    "\n",
    "# def filenameGen():\n",
    "#     import uuid\n",
    "#     return str(uuid.uuid4())"
   ]
  },
  {
   "cell_type": "code",
   "execution_count": 36,
   "metadata": {},
   "outputs": [
    {
     "ename": "PermissionError",
     "evalue": "[WinError 32] O arquivo já está sendo usado por outro processo: './schematics_generated/'",
     "output_type": "error",
     "traceback": [
      "\u001b[1;31m---------------------------------------------------------------------------\u001b[0m",
      "\u001b[1;31mPermissionError\u001b[0m                           Traceback (most recent call last)",
      "\u001b[1;32m<ipython-input-36-577ab831fb9b>\u001b[0m in \u001b[0;36m<module>\u001b[1;34m\u001b[0m\n\u001b[0;32m      1\u001b[0m \u001b[0mfolder_schematics\u001b[0m \u001b[1;33m=\u001b[0m \u001b[1;34m'./schematics_generated/'\u001b[0m\u001b[1;33m\u001b[0m\u001b[1;33m\u001b[0m\u001b[0m\n\u001b[1;32m----> 2\u001b[1;33m \u001b[0mclear_folder\u001b[0m\u001b[1;33m(\u001b[0m\u001b[0mfolder_schematics\u001b[0m\u001b[1;33m)\u001b[0m\u001b[1;33m\u001b[0m\u001b[1;33m\u001b[0m\u001b[0m\n\u001b[0m\u001b[0;32m      3\u001b[0m \u001b[1;33m\u001b[0m\u001b[0m\n\u001b[0;32m      4\u001b[0m \u001b[0mdict_schematics\u001b[0m \u001b[1;33m=\u001b[0m \u001b[1;33m{\u001b[0m\u001b[1;33m}\u001b[0m\u001b[1;33m\u001b[0m\u001b[1;33m\u001b[0m\u001b[0m\n\u001b[0;32m      5\u001b[0m \u001b[1;33m\u001b[0m\u001b[0m\n",
      "\u001b[1;32m<ipython-input-32-5a78fbd5fde9>\u001b[0m in \u001b[0;36mclear_folder\u001b[1;34m(folder)\u001b[0m\n\u001b[0;32m      3\u001b[0m     \u001b[1;32mimport\u001b[0m \u001b[0mos\u001b[0m\u001b[1;33m\u001b[0m\u001b[1;33m\u001b[0m\u001b[0m\n\u001b[0;32m      4\u001b[0m     \u001b[1;32mtry\u001b[0m\u001b[1;33m:\u001b[0m\u001b[1;33m\u001b[0m\u001b[1;33m\u001b[0m\u001b[0m\n\u001b[1;32m----> 5\u001b[1;33m         \u001b[0mshutil\u001b[0m\u001b[1;33m.\u001b[0m\u001b[0mrmtree\u001b[0m\u001b[1;33m(\u001b[0m\u001b[0mfolder\u001b[0m\u001b[1;33m)\u001b[0m\u001b[1;33m\u001b[0m\u001b[1;33m\u001b[0m\u001b[0m\n\u001b[0m\u001b[0;32m      6\u001b[0m     \u001b[1;32mexcept\u001b[0m \u001b[0mFileNotFoundError\u001b[0m\u001b[1;33m:\u001b[0m\u001b[1;33m\u001b[0m\u001b[1;33m\u001b[0m\u001b[0m\n\u001b[0;32m      7\u001b[0m         \u001b[1;32mpass\u001b[0m\u001b[1;33m\u001b[0m\u001b[1;33m\u001b[0m\u001b[0m\n",
      "\u001b[1;32mc:\\users\\tiarl\\appdata\\local\\programs\\python\\python37-32\\lib\\shutil.py\u001b[0m in \u001b[0;36mrmtree\u001b[1;34m(path, ignore_errors, onerror)\u001b[0m\n\u001b[0;32m    514\u001b[0m             \u001b[1;31m# can't continue even if onerror hook returns\u001b[0m\u001b[1;33m\u001b[0m\u001b[1;33m\u001b[0m\u001b[1;33m\u001b[0m\u001b[0m\n\u001b[0;32m    515\u001b[0m             \u001b[1;32mreturn\u001b[0m\u001b[1;33m\u001b[0m\u001b[1;33m\u001b[0m\u001b[0m\n\u001b[1;32m--> 516\u001b[1;33m         \u001b[1;32mreturn\u001b[0m \u001b[0m_rmtree_unsafe\u001b[0m\u001b[1;33m(\u001b[0m\u001b[0mpath\u001b[0m\u001b[1;33m,\u001b[0m \u001b[0monerror\u001b[0m\u001b[1;33m)\u001b[0m\u001b[1;33m\u001b[0m\u001b[1;33m\u001b[0m\u001b[0m\n\u001b[0m\u001b[0;32m    517\u001b[0m \u001b[1;33m\u001b[0m\u001b[0m\n\u001b[0;32m    518\u001b[0m \u001b[1;31m# Allow introspection of whether or not the hardening against symlink\u001b[0m\u001b[1;33m\u001b[0m\u001b[1;33m\u001b[0m\u001b[1;33m\u001b[0m\u001b[0m\n",
      "\u001b[1;32mc:\\users\\tiarl\\appdata\\local\\programs\\python\\python37-32\\lib\\shutil.py\u001b[0m in \u001b[0;36m_rmtree_unsafe\u001b[1;34m(path, onerror)\u001b[0m\n\u001b[0;32m    402\u001b[0m         \u001b[0mos\u001b[0m\u001b[1;33m.\u001b[0m\u001b[0mrmdir\u001b[0m\u001b[1;33m(\u001b[0m\u001b[0mpath\u001b[0m\u001b[1;33m)\u001b[0m\u001b[1;33m\u001b[0m\u001b[1;33m\u001b[0m\u001b[0m\n\u001b[0;32m    403\u001b[0m     \u001b[1;32mexcept\u001b[0m \u001b[0mOSError\u001b[0m\u001b[1;33m:\u001b[0m\u001b[1;33m\u001b[0m\u001b[1;33m\u001b[0m\u001b[0m\n\u001b[1;32m--> 404\u001b[1;33m         \u001b[0monerror\u001b[0m\u001b[1;33m(\u001b[0m\u001b[0mos\u001b[0m\u001b[1;33m.\u001b[0m\u001b[0mrmdir\u001b[0m\u001b[1;33m,\u001b[0m \u001b[0mpath\u001b[0m\u001b[1;33m,\u001b[0m \u001b[0msys\u001b[0m\u001b[1;33m.\u001b[0m\u001b[0mexc_info\u001b[0m\u001b[1;33m(\u001b[0m\u001b[1;33m)\u001b[0m\u001b[1;33m)\u001b[0m\u001b[1;33m\u001b[0m\u001b[1;33m\u001b[0m\u001b[0m\n\u001b[0m\u001b[0;32m    405\u001b[0m \u001b[1;33m\u001b[0m\u001b[0m\n\u001b[0;32m    406\u001b[0m \u001b[1;31m# Version using fd-based APIs to protect against races\u001b[0m\u001b[1;33m\u001b[0m\u001b[1;33m\u001b[0m\u001b[1;33m\u001b[0m\u001b[0m\n",
      "\u001b[1;32mc:\\users\\tiarl\\appdata\\local\\programs\\python\\python37-32\\lib\\shutil.py\u001b[0m in \u001b[0;36m_rmtree_unsafe\u001b[1;34m(path, onerror)\u001b[0m\n\u001b[0;32m    400\u001b[0m                 \u001b[0monerror\u001b[0m\u001b[1;33m(\u001b[0m\u001b[0mos\u001b[0m\u001b[1;33m.\u001b[0m\u001b[0munlink\u001b[0m\u001b[1;33m,\u001b[0m \u001b[0mfullname\u001b[0m\u001b[1;33m,\u001b[0m \u001b[0msys\u001b[0m\u001b[1;33m.\u001b[0m\u001b[0mexc_info\u001b[0m\u001b[1;33m(\u001b[0m\u001b[1;33m)\u001b[0m\u001b[1;33m)\u001b[0m\u001b[1;33m\u001b[0m\u001b[1;33m\u001b[0m\u001b[0m\n\u001b[0;32m    401\u001b[0m     \u001b[1;32mtry\u001b[0m\u001b[1;33m:\u001b[0m\u001b[1;33m\u001b[0m\u001b[1;33m\u001b[0m\u001b[0m\n\u001b[1;32m--> 402\u001b[1;33m         \u001b[0mos\u001b[0m\u001b[1;33m.\u001b[0m\u001b[0mrmdir\u001b[0m\u001b[1;33m(\u001b[0m\u001b[0mpath\u001b[0m\u001b[1;33m)\u001b[0m\u001b[1;33m\u001b[0m\u001b[1;33m\u001b[0m\u001b[0m\n\u001b[0m\u001b[0;32m    403\u001b[0m     \u001b[1;32mexcept\u001b[0m \u001b[0mOSError\u001b[0m\u001b[1;33m:\u001b[0m\u001b[1;33m\u001b[0m\u001b[1;33m\u001b[0m\u001b[0m\n\u001b[0;32m    404\u001b[0m         \u001b[0monerror\u001b[0m\u001b[1;33m(\u001b[0m\u001b[0mos\u001b[0m\u001b[1;33m.\u001b[0m\u001b[0mrmdir\u001b[0m\u001b[1;33m,\u001b[0m \u001b[0mpath\u001b[0m\u001b[1;33m,\u001b[0m \u001b[0msys\u001b[0m\u001b[1;33m.\u001b[0m\u001b[0mexc_info\u001b[0m\u001b[1;33m(\u001b[0m\u001b[1;33m)\u001b[0m\u001b[1;33m)\u001b[0m\u001b[1;33m\u001b[0m\u001b[1;33m\u001b[0m\u001b[0m\n",
      "\u001b[1;31mPermissionError\u001b[0m: [WinError 32] O arquivo já está sendo usado por outro processo: './schematics_generated/'"
     ]
    }
   ],
   "source": [
    "folder_schematics = './schematics_generated/'\n",
    "clear_folder(folder_schematics)\n",
    "\n",
    "dict_schematics = {}\n",
    "\n",
    "for model in models:\n",
    "    lib_path = spice_models_path.format(filename=model)\n",
    "\n",
    "    dict_schematics[model] = {}\n",
    "\n",
    "    for current in currents:\n",
    "        params = {'{NIGBT_model}': model,\n",
    "                  '{lib_path}': lib_path,\n",
    "                  '{current_ref}': current}\n",
    "        new_sch = sch\n",
    "        for key, value in params.items():\n",
    "            new_sch = new_sch.replace(key, str(value))\n",
    "\n",
    "        new_filename = folder_schematics+simulation_dir+schem_name[:-4]+'_new_'+model+'_'+str(current)+'.asc'\n",
    "        dict_schematics[model][current] = new_filename\n",
    "        \n",
    "        with open(new_filename, 'w') as fasc:\n",
    "            print(new_sch, file=fasc)\n",
    "\n",
    "with open('dict_schematics.pkldict', 'wb') as fpkl:\n",
    "    pickle.dump(dict_schematics, fpkl)"
   ]
  },
  {
   "cell_type": "code",
   "execution_count": 38,
   "metadata": {},
   "outputs": [
    {
     "name": "stdout",
     "output_type": "stream",
     "text": [
      "command: \"C:\\Program Files\\LTC\\LTspiceXVII\\XVIIx64.exe\" -Run -b ./schematics_generated/./Abaixador_rv00_new_IXDH20N120_-70.asc\n",
      "return: 0 \n",
      "\n",
      "\n",
      "command: \"C:\\Program Files\\LTC\\LTspiceXVII\\XVIIx64.exe\" -Run -b ./schematics_generated/./Abaixador_rv00_new_IXDH20N120_-40.asc\n",
      "return: 0 \n",
      "\n",
      "\n",
      "command: \"C:\\Program Files\\LTC\\LTspiceXVII\\XVIIx64.exe\" -Run -b ./schematics_generated/./Abaixador_rv00_new_IXDH20N120_10.asc\n",
      "return: 0 \n",
      "\n",
      "\n",
      "command: \"C:\\Program Files\\LTC\\LTspiceXVII\\XVIIx64.exe\" -Run -b ./schematics_generated/./Abaixador_rv00_new_IXDH20N120_40.asc\n",
      "return: 0 \n",
      "\n",
      "\n",
      "command: \"C:\\Program Files\\LTC\\LTspiceXVII\\XVIIx64.exe\" -Run -b ./schematics_generated/./Abaixador_rv00_new_IXGP16N60C2_-70.asc\n",
      "return: 0 \n",
      "\n",
      "\n",
      "command: \"C:\\Program Files\\LTC\\LTspiceXVII\\XVIIx64.exe\" -Run -b ./schematics_generated/./Abaixador_rv00_new_IXGP16N60C2_-40.asc\n",
      "return: 0 \n",
      "\n",
      "\n",
      "command: \"C:\\Program Files\\LTC\\LTspiceXVII\\XVIIx64.exe\" -Run -b ./schematics_generated/./Abaixador_rv00_new_IXGP16N60C2_10.asc\n",
      "return: 0 \n",
      "\n",
      "\n",
      "command: \"C:\\Program Files\\LTC\\LTspiceXVII\\XVIIx64.exe\" -Run -b ./schematics_generated/./Abaixador_rv00_new_IXGP16N60C2_40.asc\n",
      "return: 0 \n",
      "\n",
      "\n",
      "command: \"C:\\Program Files\\LTC\\LTspiceXVII\\XVIIx64.exe\" -Run -b ./schematics_generated/./Abaixador_rv00_new_IXGR40N60C2_-70.asc\n",
      "return: 0 \n",
      "\n",
      "\n",
      "command: \"C:\\Program Files\\LTC\\LTspiceXVII\\XVIIx64.exe\" -Run -b ./schematics_generated/./Abaixador_rv00_new_IXGR40N60C2_-40.asc\n",
      "return: 0 \n",
      "\n",
      "\n",
      "command: \"C:\\Program Files\\LTC\\LTspiceXVII\\XVIIx64.exe\" -Run -b ./schematics_generated/./Abaixador_rv00_new_IXGR40N60C2_10.asc\n",
      "return: 0 \n",
      "\n",
      "\n",
      "command: \"C:\\Program Files\\LTC\\LTspiceXVII\\XVIIx64.exe\" -Run -b ./schematics_generated/./Abaixador_rv00_new_IXGR40N60C2_40.asc\n",
      "return: 0 \n",
      "\n",
      "\n",
      "command: \"C:\\Program Files\\LTC\\LTspiceXVII\\XVIIx64.exe\" -Run -b ./schematics_generated/./Abaixador_rv00_new_IXGT40N60C2_-70.asc\n",
      "return: 0 \n",
      "\n",
      "\n",
      "command: \"C:\\Program Files\\LTC\\LTspiceXVII\\XVIIx64.exe\" -Run -b ./schematics_generated/./Abaixador_rv00_new_IXGT40N60C2_-40.asc\n",
      "return: 0 \n",
      "\n",
      "\n",
      "command: \"C:\\Program Files\\LTC\\LTspiceXVII\\XVIIx64.exe\" -Run -b ./schematics_generated/./Abaixador_rv00_new_IXGT40N60C2_10.asc\n",
      "return: 0 \n",
      "\n",
      "\n",
      "command: \"C:\\Program Files\\LTC\\LTspiceXVII\\XVIIx64.exe\" -Run -b ./schematics_generated/./Abaixador_rv00_new_IXGT40N60C2_40.asc\n",
      "return: 0 \n",
      "\n",
      "\n"
     ]
    }
   ],
   "source": [
    "successfully = {}\n",
    "unsuccessfully = {}\n",
    "\n",
    "for model, dict_currents in dict_schematics.items():\n",
    "    successfully[model] = {}\n",
    "    unsuccessfully[model] = {}\n",
    "    for current, schematic in dict_currents.items():\n",
    "        command = f'\"C:\\\\Program Files\\\\LTC\\\\LTspiceXVII\\\\XVIIx64.exe\" -Run -b {schematic}'\n",
    "        print('command:', command)\n",
    "        \n",
    "        return_system = os.system(command)\n",
    "        print('return:', return_system, '\\n\\n')\n",
    "        \n",
    "        if return_system == 0:\n",
    "            successfully[model][current] = schematic\n",
    "        else:\n",
    "            unsuccessfully[model][current] = schematic"
   ]
  },
  {
   "cell_type": "code",
   "execution_count": 45,
   "metadata": {},
   "outputs": [
    {
     "data": {
      "text/plain": [
       "array([0.1 , 0.32, 0.54, 0.76, 0.98, 1.2 ])"
      ]
     },
     "execution_count": 45,
     "metadata": {},
     "output_type": "execute_result"
    }
   ],
   "source": [
    "np.linspace(.1, 1.2, 6)"
   ]
  },
  {
   "cell_type": "markdown",
   "metadata": {},
   "source": [
    "Open the simulations"
   ]
  },
  {
   "cell_type": "code",
   "execution_count": null,
   "metadata": {
    "scrolled": true
   },
   "outputs": [],
   "source": [
    "import pickle\n",
    "from ltspice.open_raw import ltspice\n",
    "import matplotlib.pyplot as plt\n",
    "\n",
    "with open('dict_of_schematics.pkldict', 'rb') as fpkl:\n",
    "    dict_schematics = pickle.load(fpkl)"
   ]
  },
  {
   "cell_type": "markdown",
   "metadata": {},
   "source": [
    "### Getting the schematic signals information"
   ]
  },
  {
   "cell_type": "code",
   "execution_count": null,
   "metadata": {},
   "outputs": [],
   "source": [
    "model, dict_currents = list(dict_schematics.items())[0]\n",
    "current, schematic = list(dict_currents.items())[0]\n",
    "print(model, current)\n",
    "l = ltspice.Ltspice(schematic.replace('.asc', '.raw'))\n",
    "l.parse()\n",
    "l.getVariableNames()"
   ]
  },
  {
   "cell_type": "code",
   "execution_count": null,
   "metadata": {},
   "outputs": [],
   "source": [
    "folder_power_signal = r'./power_signal/'\n",
    "clear_folder(folder_power_signal)\n",
    "\n",
    "dict_power_signals = {}\n",
    "\n",
    "for model, dict_currents in dict_schematics.items():\n",
    "    dict_power_signals[model] = {}\n",
    "    for current, schematic in dict_currents.items():\n",
    "        dict_power_signals[model][current] = {}\n",
    "        print(model, current)\n",
    "        l = ltspice.Ltspice(schematic.replace('.asc', '.raw'))\n",
    "        l.parse()\n",
    "        \n",
    "        time = l.getTime()\n",
    "\n",
    "        V_z1 = l.getData('V(z1_colector)') - l.getData('V(middle_point)')\n",
    "        V_z2 = l.getData('V(middle_point)')\n",
    "\n",
    "        I_z1 = 'Id(Z1)'\n",
    "        I_z2 = 'Id(Z2)'\n",
    "\n",
    "        time = l.getTime()\n",
    "\n",
    "        V_z1 = l.getData('V(z1_colector)') - l.getData('V(middle_point)')\n",
    "        V_z2 = l.getData('V(middle_point)')\n",
    "\n",
    "        I_z1 = l.getData('Id(Z1)')\n",
    "        I_z2 = l.getData('Id(Z2)')\n",
    "        \n",
    "        P_z1 = V_z1 * I_z1\n",
    "        P_z2 = V_z2 * I_z2\n",
    "        \n",
    "        filename_z1 = folder_power_signal + filenameGen() + '.pkl'\n",
    "        filename_z2 = folder_power_signal + filenameGen() + '.pkl'\n",
    "        \n",
    "        dict_power_signals[model][current]['z1'] = filename_z1\n",
    "        dict_power_signals[model][current]['z2'] = filename_z2\n",
    "        \n",
    "        P_z1.dump(filename_z1)\n",
    "        P_z2.dump(filename_z2)        "
   ]
  },
  {
   "cell_type": "code",
   "execution_count": null,
   "metadata": {},
   "outputs": [],
   "source": [
    "import numpy as np\n",
    "a = np.array([1,2,3.4,4,5])"
   ]
  },
  {
   "cell_type": "code",
   "execution_count": null,
   "metadata": {},
   "outputs": [],
   "source": [
    "def clear_folder(folder):\n",
    "    import shutil\n",
    "    import os\n",
    "    try:\n",
    "        shutil.rmtree(folder)\n",
    "    except FileNotFoundError:\n",
    "        pass\n",
    "\n",
    "    os.makedirs(folder)\n",
    "\n",
    "    \n",
    "def filenameGen():\n",
    "    import uuid\n",
    "    return str(uuid.uuid4())"
   ]
  },
  {
   "cell_type": "code",
   "execution_count": null,
   "metadata": {},
   "outputs": [],
   "source": [
    "folder = r'./power_signal/'\n",
    "clear_folder(folder)"
   ]
  },
  {
   "cell_type": "code",
   "execution_count": null,
   "metadata": {},
   "outputs": [],
   "source": [
    "folder = './power_signal/'\n",
    "a.dump(folder+filenameGen()+'.pkl')"
   ]
  },
  {
   "cell_type": "code",
   "execution_count": null,
   "metadata": {},
   "outputs": [],
   "source": []
  },
  {
   "cell_type": "code",
   "execution_count": null,
   "metadata": {},
   "outputs": [],
   "source": []
  },
  {
   "cell_type": "code",
   "execution_count": null,
   "metadata": {},
   "outputs": [],
   "source": [
    "V_z1"
   ]
  },
  {
   "cell_type": "code",
   "execution_count": null,
   "metadata": {},
   "outputs": [],
   "source": [
    "I_z1"
   ]
  },
  {
   "cell_type": "code",
   "execution_count": null,
   "metadata": {},
   "outputs": [],
   "source": []
  }
 ],
 "metadata": {
  "kernelspec": {
   "display_name": "Python 3",
   "language": "python",
   "name": "python3"
  },
  "language_info": {
   "codemirror_mode": {
    "name": "ipython",
    "version": 3
   },
   "file_extension": ".py",
   "mimetype": "text/x-python",
   "name": "python",
   "nbconvert_exporter": "python",
   "pygments_lexer": "ipython3",
   "version": "3.7.4"
  }
 },
 "nbformat": 4,
 "nbformat_minor": 2
}
