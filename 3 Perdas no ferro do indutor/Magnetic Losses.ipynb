{
 "cells": [
  {
   "cell_type": "markdown",
   "metadata": {},
   "source": [
    "# Trabalho 3 da disciplina de modulação\n",
    "Perdas no ferro do indutor\n",
    "\n",
    "## Importando ondas do PSIM"
   ]
  },
  {
   "cell_type": "code",
   "execution_count": 2,
   "metadata": {},
   "outputs": [],
   "source": [
    "import pandas as pd\n",
    "import numpy as np\n",
    "import matplotlib.pyplot as plt"
   ]
  },
  {
   "cell_type": "code",
   "execution_count": 3,
   "metadata": {},
   "outputs": [],
   "source": [
    "df = pd.read_csv(\"lossesHalfBridge.csv\")\n",
    "df['Time'] = df['Time'] * pd.Timedelta(1, 's')\n",
    "df = df.set_index('Time')"
   ]
  },
  {
   "cell_type": "code",
   "execution_count": 4,
   "metadata": {},
   "outputs": [
    {
     "data": {
      "image/png": "[encoded data removed]",
      "text/plain": [
       "<Figure size 432x288 with 1 Axes>"
      ]
     },
     "metadata": {
      "needs_background": "light"
     },
     "output_type": "display_data"
    }
   ],
   "source": [
    "initialTime = df.index[0]\n",
    "# finalTime = initialTime + 10/60*pd.Timedelta(1, 's')\n",
    "finalTime = df.index[-1]\n",
    "df_p = df.loc[initialTime: finalTime, 'VL1']\n",
    "df_p.plot()\n",
    "\n",
    "VL1 = df['VL1']"
   ]
  },
  {
   "cell_type": "code",
   "execution_count": 5,
   "metadata": {},
   "outputs": [
    {
     "data": {
      "text/plain": [
       "<matplotlib.axes._subplots.AxesSubplot at 0x1551e45ad88>"
      ]
     },
     "execution_count": 5,
     "metadata": {},
     "output_type": "execute_result"
    },
    {
     "data": {
      "image/png": "[encoded data removed]",
      "text/plain": [
       "<Figure size 432x288 with 1 Axes>"
      ]
     },
     "metadata": {
      "needs_background": "light"
     },
     "output_type": "display_data"
    }
   ],
   "source": [
    "initialTime = df.index[0]\n",
    "finalTime = initialTime + .05/60*pd.Timedelta(1, 's')\n",
    "# finalTime = df.index[-1]\n",
    "df_p = df.loc[initialTime: finalTime, 'Vsa1']\n",
    "\n",
    "d = df['Vsa1']\n",
    "d.plot()"
   ]
  },
  {
   "cell_type": "code",
   "execution_count": 45,
   "metadata": {},
   "outputs": [
    {
     "data": {
      "text/plain": [
       "13.945488721804512"
      ]
     },
     "execution_count": 45,
     "metadata": {},
     "output_type": "execute_result"
    }
   ],
   "source": [
    "L_iyasu = 266e-6  # H\n",
    "L_half = 50e-6  # H\n",
    "\n",
    "l_iyasu = 61.24e-3  # m\n",
    "\n",
    "A_iyasu = 74.19e-6  # m²\n",
    "N = 50\n",
    "\n",
    "mu0 = 400*np.pi*1e-9\n",
    "\n",
    "r = mu0 * N**2 * A_iyasu/(2 * np.pi * L_iyasu)\n",
    "\n",
    "A_half = L_half * 2 * np.pi * r / (mu0 * N**2); A*1e6"
   ]
  },
  {
   "cell_type": "code",
   "execution_count": 46,
   "metadata": {},
   "outputs": [
    {
     "data": {
      "text/plain": [
       "<matplotlib.axes._subplots.AxesSubplot at 0x1551e043588>"
      ]
     },
     "execution_count": 46,
     "metadata": {},
     "output_type": "execute_result"
    },
    {
     "data": {
      "image/png": "[encoded data removed]",
      "text/plain": [
       "<Figure size 432x288 with 1 Axes>"
      ]
     },
     "metadata": {
      "needs_background": "light"
     },
     "output_type": "display_data"
    }
   ],
   "source": [
    "fs = 50*k\n",
    "\n",
    "deltaB = (VL1 * d)/(N * fs * A_half)\n",
    "\n",
    "initialTime = deltaB.index[0] + pd.Timedelta(.2/60, 's')\n",
    "finalTime = initialTime + pd.Timedelta(.01/60, 's')\n",
    "\n",
    "df_B = deltaB.loc[initialTime: finalTime]\n",
    "\n",
    "deltaB.plot()"
   ]
  },
  {
   "cell_type": "code",
   "execution_count": 70,
   "metadata": {},
   "outputs": [
    {
     "name": "stdout",
     "output_type": "stream",
     "text": [
      "266 uH -> le =  0.06124\n",
      "50 uH -> le =  0.48992\n",
      "le, max =  0.0008762208983828075\n"
     ]
    },
    {
     "data": {
      "text/plain": [
       "<matplotlib.axes._subplots.AxesSubplot at 0x15528934988>"
      ]
     },
     "execution_count": 70,
     "metadata": {},
     "output_type": "execute_result"
    },
    {
     "data": {
      "image/png": "[encoded data removed]",
      "text/plain": [
       "<Figure size 432x288 with 1 Axes>"
      ]
     },
     "metadata": {
      "needs_background": "light"
     },
     "output_type": "display_data"
    }
   ],
   "source": [
    "Vi = 50\n",
    "\n",
    "Res = 1\n",
    "\n",
    "print('266 uH -> le = ', l_iyasu)\n",
    "print('50 uH -> le = ', 8*l_iyasu)\n",
    "print('le, max = ', r*2*np.pi)\n",
    "\n",
    "H0 = (N*d*Vi)/(Res*(8*l_iyasu))\n",
    "H0.plot()"
   ]
  },
  {
   "cell_type": "markdown",
   "metadata": {},
   "source": [
    "## First method by: Calculating losses using the loss map of magnetic material\n",
    "\n",
    "![](images/A_novel_Fig2.jpg)"
   ]
  },
  {
   "cell_type": "code",
   "execution_count": 64,
   "metadata": {},
   "outputs": [],
   "source": [
    "# Points obtained from the Fig. 2\n",
    "\n",
    "dH = {2600: [(-12.289,183.66),(1187.1,109.38),(2804.4,50.625),(4505.3,26.339),(6535.5,16.429)],\n",
    "      2050: [(-11.954,114.19),(1197.7,58.045),(2825.8,31.055),(4523.2,16.176),(6526.6,11.159)],\n",
    "      1530: [(-7.1721,56.228),(1197.7,30.969),(2813.9,18.512),(4523.2,11.246),(6543.4,5.9689)],\n",
    "      1080: [(-2.3907,24.74),(1200.1,16.263),(2818.6,10.64),(4518.4,7.0934),(6531.4,5.7093)]}\n",
    "\n",
    "dB = {400e-3: [(-16.735,106.14),(1193,109.86),(2811.5,120.76),(4518.4,131.23),(6517.1,138.15)],\n",
    "      286e-3: [(-4.7814,58.045),(1195.4,58.045),(2809.1,64.446),(4520.8,73.702),(6529,74.135)],\n",
    "      200e-3: [(0,30.882),(1193,31.142),(2813.9,34.256),(4518.4,38.668),(6529,40.744)],\n",
    "      133e-3: [(-4.7814,16.09),(1212.1,16.349),(2821,18.685),(4523.2,17.82),(6533.8,17.993)]}"
   ]
  },
  {
   "cell_type": "markdown",
   "metadata": {},
   "source": [
    "### Creation of Polynomials\n",
    "From the data obtained in figure above"
   ]
  },
  {
   "cell_type": "code",
   "execution_count": 65,
   "metadata": {},
   "outputs": [
    {
     "name": "stdout",
     "output_type": "stream",
     "text": [
      "dH Polynomials\n"
     ]
    },
    {
     "data": {
      "text/plain": [
       "{2600: poly1d([ 5.43817107e-06, -5.99607627e-02,  1.78789762e+02]),\n",
       " 2050: poly1d([ 3.56611429e-06, -3.77131081e-02,  1.08035765e+02]),\n",
       " 1530: poly1d([ 1.45480092e-06, -1.65605008e-02,  5.33696800e+01]),\n",
       " 1080: poly1d([ 5.53626844e-07, -6.40009032e-03,  2.41508856e+01])}"
      ]
     },
     "execution_count": 65,
     "metadata": {},
     "output_type": "execute_result"
    }
   ],
   "source": [
    "# From dH data\n",
    "\n",
    "poly_dH = {}\n",
    "coord_dH = {}\n",
    "\n",
    "for key, tuples in dH.items():\n",
    "    zip_coord = []\n",
    "    for coord in zip(*tuples):\n",
    "        zip_coord.append(coord)\n",
    "    coord_dH[key] = zip_coord\n",
    "    poly = np.poly1d(np.polyfit(zip_coord[0], zip_coord[1], 2))\n",
    "    poly_dH[key] = poly\n",
    "\n",
    "print('dH Polynomials')\n",
    "poly_dH"
   ]
  },
  {
   "cell_type": "code",
   "execution_count": 66,
   "metadata": {},
   "outputs": [
    {
     "name": "stdout",
     "output_type": "stream",
     "text": [
      "dB Polynomials\n"
     ]
    },
    {
     "data": {
      "text/plain": [
       "{0.4: poly1d([-1.25876529e-07,  6.01996673e-03,  1.04958164e+02]),\n",
       " 0.286: poly1d([-1.13976779e-07,  3.65972043e-03,  5.63092476e+01]),\n",
       " 0.2: poly1d([2.75888356e-08, 1.49394544e-03, 3.02409355e+01]),\n",
       " 0.133: poly1d([-1.09532994e-07,  1.02276502e-03,  1.58915708e+01])}"
      ]
     },
     "execution_count": 66,
     "metadata": {},
     "output_type": "execute_result"
    }
   ],
   "source": [
    "# From dB data\n",
    "\n",
    "poly_dB = {}\n",
    "coord_dB = {}\n",
    "\n",
    "for key, tuples in dB.items():\n",
    "    zip_coord = []\n",
    "    for coord in zip(*tuples):\n",
    "        zip_coord.append(coord)\n",
    "    coord_dB[key] = zip_coord\n",
    "    poly = np.poly1d(np.polyfit(zip_coord[0], zip_coord[1], 2))\n",
    "    poly_dB[key] = poly\n",
    "\n",
    "print('dB Polynomials')\n",
    "poly_dB"
   ]
  },
  {
   "cell_type": "markdown",
   "metadata": {},
   "source": [
    "### Showing curves obtained from interpolation"
   ]
  },
  {
   "cell_type": "code",
   "execution_count": 67,
   "metadata": {},
   "outputs": [
    {
     "data": {
      "image/png": "[encoded data removed]",
      "text/plain": [
       "<Figure size 432x288 with 1 Axes>"
      ]
     },
     "metadata": {
      "needs_background": "light"
     },
     "output_type": "display_data"
    },
    {
     "data": {
      "image/png": "[encoded data removed]",
      "text/plain": [
       "<Figure size 432x288 with 1 Axes>"
      ]
     },
     "metadata": {
      "needs_background": "light"
     },
     "output_type": "display_data"
    }
   ],
   "source": [
    "import matplotlib.pyplot as plt\n",
    "\n",
    "markers = ['o', 'x', 'd', '+']\n",
    "x = np.linspace(0, 6500)\n",
    "\n",
    "# fig, ax = plt.subplots(1, 2, figsize=(12, 4))\n",
    "for key, m in zip(poly_dH, markers):\n",
    "    poly = poly_dH[key]\n",
    "    y = poly(x)\n",
    "    plt.plot(x, y, 'k--')\n",
    "    plt.plot(coord_dH[key][0], coord_dH[key][1], 'k%s ' % m, label='$\\Delta H$ = %d' % key)\n",
    "plt.title('$\\Delta H$ const.')\n",
    "plt.legend(framealpha=.3, loc='upper right')\n",
    "# plt.show()\n",
    "plt.savefig(r'C:\\Users\\tiarl\\Documents\\Extra Material\\notebooks_modulacao\\3 Perdas no ferro do indutor\\images\\loss_map_DeltaH.pdf')\n",
    "plt.show()\n",
    "\n",
    "for key, m in zip(poly_dB, markers):\n",
    "    poly = poly_dB[key]\n",
    "    y = poly(x)\n",
    "    plt.plot(x, y, 'k-')\n",
    "    plt.plot(coord_dB[key][0], coord_dB[key][1], 'k%s ' % m, label='$\\Delta B$ = %dm' % (key*1e3))\n",
    "plt.title('$\\Delta B$ const.')\n",
    "plt.legend(framealpha=.3, loc='upper right')\n",
    "# ymin, ymax = ax[1].get_ylim(); print(ymin, ymax)\n",
    "# ax[1].set_ylim(ymin, ymax+30)\n",
    "plt.savefig(r'C:\\Users\\tiarl\\Documents\\Extra Material\\notebooks_modulacao\\3 Perdas no ferro do indutor\\images\\loss_map_DeltaB.pdf')\n",
    "plt.show()"
   ]
  },
  {
   "cell_type": "code",
   "execution_count": 68,
   "metadata": {},
   "outputs": [
    {
     "data": {
      "text/plain": [
       "{0.133}"
      ]
     },
     "execution_count": 68,
     "metadata": {},
     "output_type": "execute_result"
    }
   ],
   "source": [
    "# Checking the deltaB mapped more closelly to the calculated\n",
    "\n",
    "keys_poly_dB = np.array(list(poly_dB.keys()))  # This takes all values of dB used in Figure 2 dB constant\n",
    "\n",
    "# This takes the index of the more approx value to compute the losses\n",
    "deltaB_more_closely_poly = []\n",
    "for deltaBi in deltaB:\n",
    "    deltaB_more_closely_ind = np.argmin(keys_poly_dB - deltaBi)\n",
    "    deltaB_more_closely = keys_poly_dB[deltaB_more_closely_ind]\n",
    "    deltaB_more_closely_poly.append(deltaB_more_closely)\n",
    "set(deltaB_more_closely_poly)"
   ]
  },
  {
   "cell_type": "code",
   "execution_count": 69,
   "metadata": {},
   "outputs": [
    {
     "data": {
      "text/plain": [
       "2845899.1689413474"
      ]
     },
     "execution_count": 69,
     "metadata": {},
     "output_type": "execute_result"
    }
   ],
   "source": [
    "total_power_loss = 0\n",
    "for each_deltaB_poly, H0i in zip(deltaB_more_closely_poly, H0):\n",
    "    poly_more_closely = poly_dB[each_deltaB_poly]\n",
    "    power_loss = poly_more_closely(H0i)\n",
    "    total_power_loss += power_loss\n",
    "total_power_loss"
   ]
  },
  {
   "cell_type": "code",
   "execution_count": null,
   "metadata": {},
   "outputs": [],
   "source": []
  }
 ],
 "metadata": {
  "kernelspec": {
   "display_name": "Python 3",
   "language": "python",
   "name": "python3"
  },
  "language_info": {
   "codemirror_mode": {
    "name": "ipython",
    "version": 3
   },
   "file_extension": ".py",
   "mimetype": "text/x-python",
   "name": "python",
   "nbconvert_exporter": "python",
   "pygments_lexer": "ipython3",
   "version": "3.7.5"
  }
 },
 "nbformat": 4,
 "nbformat_minor": 2
}
