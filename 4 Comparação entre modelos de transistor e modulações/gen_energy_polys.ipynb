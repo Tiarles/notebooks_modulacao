{
 "cells": [
  {
   "cell_type": "markdown",
   "metadata": {},
   "source": [
    "# Perdas de Comutação e Condução\n",
    "## Disciplina de Modulação - Profº Humberto Pinheiro - 2019/2\n",
    "**Autor:** Tiarles da Rocha Moralles Guterres (Engenheiro de Computação (UFSM))\n",
    "\n",
    "**Parte 1.a** - Obtenção das curvas características de funcionamento do componente a partir de amostras de energia obtidas no LTSpice XVII\n",
    "\n",
    "Dados de simulação do arquivo ``Abaixador_rv00.asc``:\n",
    "* **Ferramenta:** LTSpice XVII\n",
    "* **Componente:** MOSFET IRFH5207"
   ]
  },
  {
   "cell_type": "code",
   "execution_count": 1,
   "metadata": {},
   "outputs": [],
   "source": [
    "import numpy as np\n",
    "import matplotlib.pyplot as plt"
   ]
  },
  {
   "cell_type": "code",
   "execution_count": 2,
   "metadata": {},
   "outputs": [],
   "source": [
    "from halfBridgeModule import getPolyFromPoints"
   ]
  },
  {
   "cell_type": "markdown",
   "metadata": {},
   "source": [
    "### 1. Listas com os valores obtidos pelo LTSpice de energia"
   ]
  },
  {
   "cell_type": "code",
   "execution_count": 3,
   "metadata": {},
   "outputs": [],
   "source": [
    "currentValues = [6, 10, 12, 30, 50, 70]\n",
    "\n",
    "energyOn   = [2.102, 3.508, 4.462, 10.559, 26.519, 46.421]\n",
    "energyOff  = [0.649, 1.185, 1.517,  5.007,  8.472, 13.145]\n",
    "energyRec  = [0.615, 1.194, 1.516,  5.029,  9.695, 15.075]\n",
    "energyD_On = [0.213, 0.362, 1.273,  3.805,  8.212, 11.477]"
   ]
  },
  {
   "cell_type": "markdown",
   "metadata": {},
   "source": [
    "### 2. Obtenção dos parâmetros e dos polinômios"
   ]
  },
  {
   "cell_type": "code",
   "execution_count": 4,
   "metadata": {},
   "outputs": [],
   "source": [
    "# p_energyOn   = np.poly1d(np.polyfit(currentValues, energyOn, 3))\n",
    "# p_energyOff  = np.poly1d(np.polyfit(currentValues, energyOff, 3))\n",
    "# p_energyRec  = np.poly1d(np.polyfit(currentValues, energyRec, 3))\n",
    "# p_energyD_On = np.poly1d(np.polyfit(currentValues, energyD_On, 3))\n",
    "\n",
    "p_energyOn   = getPolyFromPoints(currentValues, energyOn, 3)\n",
    "p_energyOff  = getPolyFromPoints(currentValues, energyOff, 3)\n",
    "p_energyRec  = getPolyFromPoints(currentValues, energyRec, 3)\n",
    "p_energyD_On = getPolyFromPoints(currentValues, energyD_On, 3)"
   ]
  },
  {
   "cell_type": "markdown",
   "metadata": {},
   "source": [
    "#### Sobre as funções np.poly1d e np.polyfit"
   ]
  },
  {
   "cell_type": "code",
   "execution_count": 5,
   "metadata": {},
   "outputs": [],
   "source": [
    "# np.polyfit(x, y, deg)\n",
    "#\n",
    "# x : array_like, shape (M,)\n",
    "#    x-coordinates of the M sample points ``(x[i], y[i])``.\n",
    "# y : array_like, shape (M,) or (M, K)\n",
    "#    y-coordinates of the sample points. Several data sets of sample\n",
    "#    points sharing the same x-coordinates can be fitted at once by\n",
    "#    passing in a 2D-array that contains one dataset per column.\n",
    "# deg : int\n",
    "#    Degree of the fitting polynomial\n",
    "\n",
    "# np.poly1d(c_or_r, r=False, variable=None)\n",
    "#\n",
    "# c_or_r : array_like\n",
    "#    The polynomial's coefficients, in decreasing"
   ]
  },
  {
   "cell_type": "markdown",
   "metadata": {},
   "source": [
    "### 3. Plot dos polinômios gerados"
   ]
  },
  {
   "cell_type": "code",
   "execution_count": 6,
   "metadata": {},
   "outputs": [
    {
     "data": {
      "image/png": "[encoded data removed]",
      "text/plain": [
       "<Figure size 432x288 with 1 Axes>"
      ]
     },
     "metadata": {
      "needs_background": "light"
     },
     "output_type": "display_data"
    }
   ],
   "source": [
    "current = np.linspace(0, 75, 75*2)\n",
    "\n",
    "plt.plot(current, p_energyOn(current), 'b-', label='$\\epsilon_{ON}$')\n",
    "plt.plot(currentValues, energyOn, 'bo ')\n",
    "plt.plot(current, p_energyOff(current), 'r-', label='$\\epsilon_{OFF}$')\n",
    "plt.plot(currentValues, energyOff, 'ro ')\n",
    "plt.plot(current, p_energyRec(current), 'g-', label='$\\epsilon_{REC}$')\n",
    "plt.plot(currentValues, energyRec, 'go ')\n",
    "plt.plot(current, p_energyD_On(current), 'y-', label='$\\epsilon_{D, ON}$')\n",
    "plt.plot(currentValues, energyD_On, 'yo ')\n",
    "plt.legend()\n",
    "plt.title('Equações de perdas em comutação')\n",
    "plt.grid()\n",
    "plt.show()"
   ]
  },
  {
   "cell_type": "markdown",
   "metadata": {},
   "source": [
    "### 4. Salvando equações num ``pickle`` para uso em outro script"
   ]
  },
  {
   "cell_type": "code",
   "execution_count": 7,
   "metadata": {},
   "outputs": [],
   "source": [
    "import pickle\n",
    "\n",
    "to_save = {'eon': p_energyOn, 'eoff': p_energyOff, 'erec': p_energyRec, 'eDon': p_energyD_On}\n",
    "\n",
    "with open('models\\\\IRFH5207.pklmod', 'wb') as filep:\n",
    "    pickle.dump(to_save, filep)"
   ]
  },
  {
   "cell_type": "code",
   "execution_count": null,
   "metadata": {},
   "outputs": [],
   "source": []
  }
 ],
 "metadata": {
  "kernelspec": {
   "display_name": "Python 3",
   "language": "python",
   "name": "python3"
  },
  "language_info": {
   "codemirror_mode": {
    "name": "ipython",
    "version": 3
   },
   "file_extension": ".py",
   "mimetype": "text/x-python",
   "name": "python",
   "nbconvert_exporter": "python",
   "pygments_lexer": "ipython3",
   "version": "3.7.4"
  }
 },
 "nbformat": 4,
 "nbformat_minor": 2
}
