{
 "cells": [
  {
   "cell_type": "markdown",
   "metadata": {},
   "source": [
    "# Title"
   ]
  },
  {
   "cell_type": "code",
   "execution_count": 2,
   "metadata": {},
   "outputs": [],
   "source": [
    "import numpy as np\n",
    "from scipy.optimize import minimize"
   ]
  },
  {
   "cell_type": "code",
   "execution_count": 8,
   "metadata": {},
   "outputs": [],
   "source": [
    "lista_x = []\n",
    "def get_x(Xi):\n",
    "    lista_x.append(Xi)"
   ]
  },
  {
   "cell_type": "code",
   "execution_count": 9,
   "metadata": {},
   "outputs": [],
   "source": [
    "def objective(theta):\n",
    "    th1, th2, th3 = theta\n",
    "    return (np.cos(3*th1) - np.cos(3*th2) + np.cos(3*th3))**2 + (np.cos(5*th1) - np.cos(5*th2) + np.cos(5*th3))**2\n",
    "\n",
    "ma = .8\n",
    "\n",
    "def constraint1a(theta):\n",
    "    th1, th2, th3 = theta\n",
    "    return ma - np.cos(th1) + np.cos(th2) - np.cos(th3)\n",
    "\n",
    "def constraint1b(theta):\n",
    "    th1, th2, th3 = theta\n",
    "    return th1 \n",
    "\n",
    "def constraint2b(theta):\n",
    "    th1, th2, th3 = theta\n",
    "    return th2 - th1\n",
    "\n",
    "def constraint3b(theta):\n",
    "    th1, th2, th3 = theta\n",
    "    return th3 - th2\n",
    "\n",
    "def constraint4b(theta):\n",
    "    th1, th2, th3 = theta\n",
    "    return np.pi/2 - th3"
   ]
  },
  {
   "cell_type": "code",
   "execution_count": 10,
   "metadata": {},
   "outputs": [],
   "source": [
    "# x0 = [np.radians(10), np.radians(30), np.radians(85)]\n",
    "x0 = [np.radians(13.36), np.radians(26.73), np.radians(53)]\n",
    "b = (0., np.pi/2)\n",
    "bnds = (b,b,b)\n",
    "con1a = {'type': 'eq', 'fun': constraint1a}\n",
    "con1b = {'type': 'ineq', 'fun': constraint1b}\n",
    "con2b = {'type': 'ineq', 'fun': constraint2b}\n",
    "con3b = {'type': 'ineq', 'fun': constraint3b}\n",
    "con4b = {'type': 'ineq', 'fun': constraint4b} \n",
    "\n",
    "cons = [con1a, con1b, con2b, con3b, con4b]"
   ]
  },
  {
   "cell_type": "code",
   "execution_count": 11,
   "metadata": {},
   "outputs": [
    {
     "data": {
      "text/plain": [
       "     fun: 3.824249155566094e-10\n",
       "     jac: array([ 0.00297242,  0.00241789, -0.00366214])\n",
       " message: 'Optimization terminated successfully.'\n",
       "    nfev: 116\n",
       "     nit: 22\n",
       "    njev: 22\n",
       "  status: 0\n",
       " success: True\n",
       "       x: array([0.44188845, 0.76978336, 0.90953123])"
      ]
     },
     "execution_count": 11,
     "metadata": {},
     "output_type": "execute_result"
    }
   ],
   "source": [
    "lista_x = []\n",
    "sol = minimize(objective, x0, method='SLSQP', bounds=bnds, constraints=cons, callback=get_x); sol"
   ]
  },
  {
   "cell_type": "code",
   "execution_count": 12,
   "metadata": {},
   "outputs": [
    {
     "data": {
      "text/plain": [
       "array([25.31834331, 44.10533785, 52.11230055])"
      ]
     },
     "execution_count": 12,
     "metadata": {},
     "output_type": "execute_result"
    }
   ],
   "source": [
    "np.degrees(sol.x)"
   ]
  },
  {
   "cell_type": "code",
   "execution_count": 13,
   "metadata": {},
   "outputs": [],
   "source": [
    "last_index = sol.nit - 1\n",
    "tf1, tf2, tf3 = np.degrees(sol.x)"
   ]
  },
  {
   "cell_type": "code",
   "execution_count": 14,
   "metadata": {},
   "outputs": [
    {
     "data": {
      "text/plain": [
       "Text(0, 0.5, 'Ângulo (°)')"
      ]
     },
     "execution_count": 14,
     "metadata": {},
     "output_type": "execute_result"
    },
    {
     "data": {
      "image/png": "[encoded data removed]",
      "text/plain": [
       "<Figure size 432x288 with 1 Axes>"
      ]
     },
     "metadata": {
      "needs_background": "light"
     },
     "output_type": "display_data"
    }
   ],
   "source": [
    "array = np.array(lista_x); array[:, 0]\n",
    "\n",
    "import matplotlib.pyplot as plt\n",
    "\n",
    "plt.plot(np.degrees(array[:, 0]), 'r-', label=r'$\\theta_0$')\n",
    "plt.plot(np.degrees(array[:, 1]), 'g-', label=r'$\\theta_1$')\n",
    "plt.plot(np.degrees(array[:, 2]), 'b-', label=r'$\\theta_2$')\n",
    "plt.plot(last_index, tf1, 'ro')\n",
    "plt.plot(last_index, tf2, 'go')\n",
    "plt.plot(last_index, tf3, 'bo')\n",
    "plt.text(last_index - 3, tf1+2, '%.2f°'% tf1)\n",
    "plt.text(last_index - 3, tf2+2, '%.2f°'% tf2)\n",
    "plt.text(last_index - 3, tf3+2, '%.2f°'% tf3)\n",
    "plt.grid()\n",
    "plt.yticks([0, 15, 45, 30, 60])\n",
    "plt.legend(loc='lower right')\n",
    "plt.xlabel('Iterações')\n",
    "plt.ylabel('Ângulo (°)')"
   ]
  },
  {
   "cell_type": "code",
   "execution_count": 16,
   "metadata": {},
   "outputs": [],
   "source": [
    "# plt.text?"
   ]
  },
  {
   "cell_type": "markdown",
   "metadata": {},
   "source": []
  },
  {
   "cell_type": "code",
   "execution_count": 51,
   "metadata": {},
   "outputs": [
    {
     "name": "stdout",
     "output_type": "stream",
     "text": [
      "ma: 0.1 [ 8.21445079  8.21445079 84.26082952]\n",
      "ma: 0.2 [ 8.74005566  8.74005566 78.46304097]\n",
      "ma: 0.3 [ 9.10749058  9.10749058 72.54239688]\n",
      "ma: 0.4 [ 6.2633828   6.2633828  66.42182185]\n",
      "ma: 0.5 [ 7.4922689   7.4922689  60.00000239]\n",
      "ma: 0.6 [32.09305282 54.5737389  70.58136689]\n",
      "ma: 0.7 [29.60115674 53.63794271 64.95049956]\n",
      "ma: 0.7999999999999999 [25.31834328 44.10533772 52.11230045]\n",
      "ma: 0.8999999999999999 [8.34973723e-04 1.61901214e+01 3.06450237e+01]\n",
      "ma: 0.9999999999999999 [0.00473567 2.69756372 2.69756372]\n",
      "ma: 1.0999999999999999 [3.04706251e-08 1.26562776e+01 1.26562776e+01]\n",
      "ma: 1.2 [ 0.         90.         86.28023455]\n"
     ]
    }
   ],
   "source": [
    "angles = []\n",
    "m = np.linspace(0.1, 1.2, 12)\n",
    "\n",
    "for ma in m:\n",
    "    def objective(theta):\n",
    "        th1, th2, th3 = theta\n",
    "        return (np.cos(3*th1) - np.cos(3*th2) + np.cos(3*th3))**2 + (np.cos(5*th1) - np.cos(5*th2) + np.cos(5*th3))**2\n",
    "\n",
    "    def constraint1a(theta):\n",
    "        th1, th2, th3 = theta\n",
    "        return ma - np.cos(th1) + np.cos(th2) - np.cos(th3)\n",
    "\n",
    "    def constraint1b(theta):\n",
    "        th1, th2, th3 = theta\n",
    "        return th1 \n",
    "\n",
    "    def constraint2b(theta):\n",
    "        th1, th2, th3 = theta\n",
    "        return th2 - th1\n",
    "\n",
    "    def constraint3b(theta):\n",
    "        th1, th2, th3 = theta\n",
    "        return th3 - th2\n",
    "\n",
    "    def constraint4b(theta):\n",
    "        th1, th2, th3 = theta\n",
    "        return np.pi/2 - th3\n",
    "    \n",
    "#     x0 = [np.radians(10), np.radians(30), np.radians(85)]\n",
    "    x0 = [np.radians(13.36), np.radians(26.73), np.radians(53)]\n",
    "    b = (0., np.pi/2)\n",
    "    bnds = (b,b,b)\n",
    "    con1a = {'type': 'eq', 'fun': constraint1a}\n",
    "    con1b = {'type': 'ineq', 'fun': constraint1b}\n",
    "    con2b = {'type': 'ineq', 'fun': constraint2b}\n",
    "    con3b = {'type': 'ineq', 'fun': constraint3b}\n",
    "    con4b = {'type': 'ineq', 'fun': constraint4b} \n",
    "\n",
    "    cons = [con1a, con1b, con2b, con3b, con4b]\n",
    "    \n",
    "    sol = minimize(objective, x0, method='SLSQP', bounds=bnds, constraints=cons)\n",
    "    print('ma:', ma, np.degrees(sol.x))\n",
    "    \n",
    "    angles.append(np.degrees(sol.x))\n",
    "    \n",
    "#     last_index = sol.nit - 1\n",
    "#     tf1, tf2, tf3 = np.degrees(sol.x)\n",
    "    \n",
    "#     array = np.array(lista_x); array[:, 0]\n",
    "\n",
    "#     import matplotlib.pyplot as plt\n",
    "\n",
    "#     plt.plot(np.degrees(array[:, 0]), 'r-', label=r'$\\theta_0$')\n",
    "#     plt.plot(np.degrees(array[:, 1]), 'g-', label=r'$\\theta_1$')\n",
    "#     plt.plot(np.degrees(array[:, 2]), 'b-', label=r'$\\theta_2$')\n",
    "#     plt.plot(last_index, tf1, 'ro')\n",
    "#     plt.plot(last_index, tf2, 'go')\n",
    "#     plt.plot(last_index, tf3, 'bo')\n",
    "#     plt.text(last_index - 3, tf1+2, '%.2f°'% tf1)\n",
    "#     plt.text(last_index - 3, tf2+2, '%.2f°'% tf2)\n",
    "#     plt.text(last_index - 3, tf3+2, '%.2f°'% tf3)\n",
    "#     plt.grid()\n",
    "#     plt.yticks([0, 15, 45, 30, 60, 90])\n",
    "#     plt.legend(loc='lower right')\n",
    "#     plt.xlabel('Iterações')\n",
    "#     plt.ylabel('Ângulo (°)')\n",
    "#     plt.show()"
   ]
  },
  {
   "cell_type": "code",
   "execution_count": 52,
   "metadata": {},
   "outputs": [],
   "source": [
    "angles = np.array(angles)"
   ]
  },
  {
   "cell_type": "code",
   "execution_count": 53,
   "metadata": {},
   "outputs": [],
   "source": [
    "a0, a1, a2 = angles[:, [0]], angles[:, [1]], angles[:, [2]]"
   ]
  },
  {
   "cell_type": "code",
   "execution_count": null,
   "metadata": {},
   "outputs": [],
   "source": []
  },
  {
   "cell_type": "code",
   "execution_count": 50,
   "metadata": {},
   "outputs": [
    {
     "data": {
      "image/png": "[encoded data removed]",
      "text/plain": [
       "<Figure size 432x288 with 1 Axes>"
      ]
     },
     "metadata": {
      "needs_background": "light"
     },
     "output_type": "display_data"
    }
   ],
   "source": [
    "# bool_op = a0 > 90\n",
    "# a0[bool_op] = a0[bool_op] - 90\n",
    "\n",
    "# bool_op = a1 > 90\n",
    "# a1[bool_op] = a1[bool_op] - 90\n",
    "\n",
    "# bool_op = a2 > 90\n",
    "# a2[bool_op] = a2[bool_op] - 90\n",
    "\n",
    "plt.plot(m, a0, 'o-', label=r'$\\theta_0$')\n",
    "plt.plot(m, a1, 'o-', label=r'$\\theta_1$')\n",
    "plt.plot(m, a2, 'o-', label=r'$\\theta_2$')\n",
    "# plt.text(m[0]+.025, a0[0]+2, '%.2f°'% a0[0])\n",
    "\n",
    "plt.yticks([0, 15, 45, 30, 60, 90])\n",
    "plt.grid()\n",
    "plt.xlabel('ma')\n",
    "plt.ylabel('Ângulos')\n",
    "plt.legend()\n",
    "plt.show()"
   ]
  },
  {
   "cell_type": "code",
   "execution_count": 54,
   "metadata": {},
   "outputs": [
    {
     "data": {
      "image/png": "[encoded data removed]",
      "text/plain": [
       "<Figure size 432x288 with 1 Axes>"
      ]
     },
     "metadata": {
      "needs_background": "light"
     },
     "output_type": "display_data"
    }
   ],
   "source": [
    "plt.plot(m, a0, 'o-', label=r'$\\theta_0$')\n",
    "plt.plot(m, a1, 'o-', label=r'$\\theta_1$')\n",
    "plt.plot(m, a2, 'o-', label=r'$\\theta_2$')\n",
    "plt.yticks([0, 15, 45, 30, 60, 90])\n",
    "plt.grid()\n",
    "plt.xlabel('ma')\n",
    "plt.ylabel('Ângulos')\n",
    "plt.legend()\n",
    "plt.show()"
   ]
  },
  {
   "cell_type": "code",
   "execution_count": null,
   "metadata": {},
   "outputs": [],
   "source": []
  },
  {
   "cell_type": "code",
   "execution_count": null,
   "metadata": {},
   "outputs": [],
   "source": []
  },
  {
   "cell_type": "markdown",
   "metadata": {},
   "source": []
  },
  {
   "cell_type": "code",
   "execution_count": null,
   "metadata": {},
   "outputs": [],
   "source": [
    "import numpy as np\n",
    "from scipy.optimize import minimize"
   ]
  },
  {
   "cell_type": "code",
   "execution_count": null,
   "metadata": {},
   "outputs": [],
   "source": [
    "def objective(x):\n",
    "    x1, x2, x3, x4 = x\n",
    "    return x1*x4*(x1+x2+x3)+x3\n",
    "\n",
    "def constraint1(x):\n",
    "    x1, x2, x3, x4 = x\n",
    "    return x1*x2*x3*x4-25.\n",
    "\n",
    "def constraint2(x):\n",
    "    x1, x2, x3, x4 = x\n",
    "    \n",
    "    return x1**2 + x2**2 + x3**2 + x4**2 - 40"
   ]
  },
  {
   "cell_type": "code",
   "execution_count": null,
   "metadata": {},
   "outputs": [],
   "source": [
    "x0 = [1,5,5,1]\n",
    "\n",
    "b = (1.0,5.0)\n",
    "bnds = (b,b,b,b)\n",
    "con1 = {'type': 'ineq', 'fun': constraint1}\n",
    "con2 = {'type': 'eq', 'fun': constraint2}\n",
    "cons = [con1, con2]"
   ]
  },
  {
   "cell_type": "code",
   "execution_count": null,
   "metadata": {},
   "outputs": [],
   "source": [
    "sol = minimize(objective, x0, method='SLSQP', bounds=bnds, constraints=cons); sol"
   ]
  },
  {
   "cell_type": "code",
   "execution_count": null,
   "metadata": {},
   "outputs": [],
   "source": []
  },
  {
   "cell_type": "markdown",
   "metadata": {},
   "source": []
  },
  {
   "cell_type": "code",
   "execution_count": null,
   "metadata": {},
   "outputs": [],
   "source": [
    "import nlopt\n",
    "from numpy import *"
   ]
  },
  {
   "cell_type": "markdown",
   "metadata": {},
   "source": []
  },
  {
   "cell_type": "code",
   "execution_count": null,
   "metadata": {},
   "outputs": [],
   "source": [
    "def toVector(w, z):\n",
    "    assert w.shape == (2, 4)\n",
    "    assert z.shape == (2, 4)\n",
    "    return np.hstack([w.flatten(), z.flatten()])\n",
    "\n",
    "def toWZ(vec):\n",
    "    assert vec.shape == (2*2*4,)\n",
    "    return vec[:2*4].reshape(2,4), vec[2*4:].reshape(2,4)\n",
    "\n",
    "def doOptimization(f_of_w_z, w0, z0):\n",
    "    def f(x): \n",
    "        w, z = toWZ(x)\n",
    "        return f_of_w_z(w, z)\n",
    "\n",
    "    result = minimize(f, toVec(w0, z0))\n",
    "    # Different optimize functions return their\n",
    "    # vector result differently. In this case it's result.x:\n",
    "    result.x = toWZ(result.x) \n",
    "    return result"
   ]
  },
  {
   "cell_type": "markdown",
   "metadata": {},
   "source": []
  },
  {
   "cell_type": "code",
   "execution_count": null,
   "metadata": {},
   "outputs": [],
   "source": [
    "import numpy as np\n",
    "from scipy.optimize import minimize"
   ]
  },
  {
   "cell_type": "code",
   "execution_count": null,
   "metadata": {},
   "outputs": [],
   "source": [
    "def rosen(x):\n",
    "    \"\"\"The Rosenbrock function\"\"\"\n",
    "    return sum(100.0*(x[1:]-x[:-1]**2.0)**2.0 + (1-x[:-1])**2.0)\n",
    "\n",
    "def rosen_der(x):\n",
    "    xm = x[1:-1]\n",
    "    xm_m1 = x[:-2]\n",
    "    xm_p1 = x[2:]\n",
    "    der = np.zeros_like(x)\n",
    "    der[1:-1] = 200*(xm-xm_m1**2) - 400*(xm_p1 - xm**2)*xm - 2*(1-xm)\n",
    "    der[0] = -400*x[0]*(x[1]-x[0]**2) - 2*(1-x[0])\n",
    "    der[-1] = 200*(x[-1]-x[-2]**2)\n",
    "    return der\n",
    "\n",
    "def rosen_hess(x):\n",
    "    x = np.asarray(x)\n",
    "    H = np.diag(-400*x[:-1],1) - np.diag(400*x[:-1],-1)\n",
    "    diagonal = np.zeros_like(x)\n",
    "    diagonal[0] = 1200*x[0]**2-400*x[1]+2\n",
    "    diagonal[-1] = 200\n",
    "    diagonal[1:-1] = 202 + 1200*x[1:-1]**2 - 400*x[2:]\n",
    "    H = H + np.diag(diagonal)\n",
    "    return H"
   ]
  },
  {
   "cell_type": "code",
   "execution_count": null,
   "metadata": {},
   "outputs": [],
   "source": [
    "x0 = np.array([1.3, 0.7, 0.8, 1.9, 1.2])\n",
    "res = minimize(rosen, x0, method='nelder-mead',\n",
    "               options={'xatol': 1e-8, 'disp': True})\n",
    "\n",
    "res = minimize(rosen, x0, method='Newton-CG',\n",
    "               jac=rosen_der, hess=rosen_hess,\n",
    "               options={'xtol': 1e-8, 'disp': True})"
   ]
  },
  {
   "cell_type": "code",
   "execution_count": null,
   "metadata": {},
   "outputs": [],
   "source": [
    "res"
   ]
  },
  {
   "cell_type": "markdown",
   "metadata": {},
   "source": []
  },
  {
   "cell_type": "code",
   "execution_count": null,
   "metadata": {},
   "outputs": [],
   "source": [
    "import numpy as np"
   ]
  },
  {
   "cell_type": "code",
   "execution_count": null,
   "metadata": {},
   "outputs": [],
   "source": [
    "N = 3\n",
    "\n",
    "m = 0.01\n",
    "\n",
    "a = np.array([10, 30, 60, 85])\n",
    "a = np.radians(a)\n",
    "\n",
    "ab = np.pi/2\n",
    "\n",
    "while m < 1.27:\n",
    "    a[0] = np.pi/180\n",
    "    while a[0] < ab:\n",
    "        a[-1] = a[-2] + np.pi/180 \n",
    "        while a[-1] < ab:\n",
    "            b1\n",
    "    \n",
    "    np.sqrt(a1**2 + b1**2) = m * Udc/2\n",
    "    \n",
    "    for i in range(a.size - 1):\n",
    "        a[i + 1] = a[i] + np.pi/180\n",
    "    something = False\n",
    "        \n",
    "a"
   ]
  },
  {
   "cell_type": "code",
   "execution_count": 1,
   "metadata": {},
   "outputs": [],
   "source": [
    "a = 6j+1"
   ]
  },
  {
   "cell_type": "code",
   "execution_count": 4,
   "metadata": {},
   "outputs": [
    {
     "data": {
      "text/plain": [
       "(9+6j)"
      ]
     },
     "execution_count": 4,
     "metadata": {},
     "output_type": "execute_result"
    }
   ],
   "source": [
    "a +8"
   ]
  },
  {
   "cell_type": "code",
   "execution_count": null,
   "metadata": {},
   "outputs": [],
   "source": []
  },
  {
   "cell_type": "code",
   "execution_count": 11,
   "metadata": {},
   "outputs": [],
   "source": [
    "import numpy as np"
   ]
  },
  {
   "cell_type": "code",
   "execution_count": 12,
   "metadata": {},
   "outputs": [],
   "source": [
    "alfa = [10, 30, 40, 50]"
   ]
  },
  {
   "cell_type": "code",
   "execution_count": 25,
   "metadata": {},
   "outputs": [],
   "source": [
    "v_initial_pos, v_initial_neg = (6j + 1), (6j - 1)\n",
    "v_pos = np.arange(v_initial_pos, v_initial_pos*11, 1)"
   ]
  },
  {
   "cell_type": "code",
   "execution_count": 28,
   "metadata": {},
   "outputs": [
    {
     "name": "stdout",
     "output_type": "stream",
     "text": [
      "\tv =  (1+6j)  | alfa =  10  | parcial =  (-4.791129433946273e+25+3.106380644256991e+25j)\n",
      "\tv =  (1+6j)  | alfa =  30  | parcial =  (-1.1486983620512958e+77-7.357793453983644e+77j)\n",
      "\tv =  (1+6j)  | alfa =  40  | parcial =  (-5.671933940609084e+103-6.336769285662479e+103j)\n",
      "\tv =  (1+6j)  | alfa =  50  | parcial =  (-9.371877421271035e+129-2.5482192064103713e+129j)\n",
      "v =  (1+6j)  | soma =  (-9.371877421271035e+129-2.5482192064103713e+129j) \n",
      "\n",
      "\tv =  (2+6j)  | alfa =  10  | parcial =  (2.3301636512105726e+25-5.212951114140418e+25j)\n",
      "\tv =  (2+6j)  | alfa =  30  | parcial =  (7.092544228249382e+77-2.269900616500704e+77j)\n",
      "\tv =  (2+6j)  | alfa =  40  | parcial =  (-9.387815614989373e+102+8.452465249034643e+103j)\n",
      "\tv =  (2+6j)  | alfa =  50  | parcial =  (-8.374954693231354e+129-4.9178899346742816e+129j)\n",
      "v =  (2+6j)  | soma =  (-8.374954693231354e+129-4.9178899346742816e+129j) \n",
      "\n",
      "\tv =  (3+6j)  | alfa =  10  | parcial =  (8.807814783070235e+24+5.641697080428203e+25j)\n",
      "\tv =  (3+6j)  | alfa =  30  | parcial =  (3.336768823249862e+77+6.657522531591735e+77j)\n",
      "\tv =  (3+6j)  | alfa =  40  | parcial =  (6.924152250491054e+103-4.937772293086056e+103j)\n",
      "\tv =  (3+6j)  | alfa =  50  | parcial =  (-6.791216116986657e+129-6.942974231237589e+129j)\n",
      "v =  (3+6j)  | soma =  (-6.791216116986657e+129-6.942974231237589e+129j) \n",
      "\n",
      "\tv =  (4+6j)  | alfa =  10  | parcial =  (-3.808240974781158e+25-4.2546236775816815e+25j)\n",
      "\tv =  (4+6j)  | alfa =  30  | parcial =  (-6.063141370397424e+77+4.3237656228152727e+77j)\n",
      "\tv =  (4+6j)  | alfa =  40  | parcial =  (-8.297179799556362e+103-1.866088684972526e+103j)\n",
      "\tv =  (4+6j)  | alfa =  50  | parcial =  (-4.731630996849135e+129-8.481578605006558e+129j)\n",
      "v =  (4+6j)  | soma =  (-4.731630996849135e+129-8.481578605006558e+129j) \n",
      "\n",
      "\tv =  (5+6j)  | alfa =  10  | parcial =  (5.509991677295429e+25+1.4981701091584788e+25j)\n",
      "\tv =  (5+6j)  | alfa =  30  | parcial =  (-5.207265517764253e+77-5.323628299005038e+77j)\n",
      "\tv =  (5+6j)  | alfa =  40  | parcial =  (4.143257774901792e+103+7.426903433939646e+103j)\n",
      "\tv =  (5+6j)  | alfa =  50  | parcial =  (-2.3405102256527212e+129-9.425896212396121e+129j)\n",
      "v =  (5+6j)  | soma =  (-2.3405102256527212e+129-9.425896212396121e+129j) \n",
      "\n",
      "\tv =  (6+6j)  | alfa =  10  | parcial =  (-5.438313308952446e+25+1.7404799089652003e+25j)\n",
      "\tv =  (6+6j)  | alfa =  30  | parcial =  (4.456684858267909e+77-5.966120390383472e+77j)\n",
      "\tv =  (6+6j)  | alfa =  40  | parcial =  (2.7705871809190327e+103-8.040480475647943e+103j)\n",
      "\tv =  (6+6j)  | alfa =  50  | parcial =  (2.146052826625625e+128-9.709760661102921e+129j)\n",
      "v =  (6+6j)  | soma =  (2.146052826625625e+128-9.709760661102921e+129j) \n",
      "\n",
      "\tv =  (7+6j)  | alfa =  10  | parcial =  (3.6162760501836733e+25-4.418944386243029e+25j)\n",
      "\tv =  (7+6j)  | alfa =  30  | parcial =  (6.582165719923988e+77+3.4830628581639785e+77j)\n",
      "\tv =  (7+6j)  | alfa =  40  | parcial =  (-7.83887786306328e+103+3.2981014924233455e+103j)\n",
      "\tv =  (7+6j)  | alfa =  50  | parcial =  (2.754683840261362e+129-9.313282153110762e+129j)\n",
      "v =  (7+6j)  | soma =  (2.754683840261362e+129-9.313282153110762e+129j) \n",
      "\n",
      "\tv =  (8+6j)  | alfa =  10  | parcial =  (-6.30315241027891e+24+5.675140937172289e+25j)\n",
      "\tv =  (8+6j)  | alfa =  30  | parcial =  (-2.426067646870652e+77+7.040655382226246e+77j)\n",
      "\tv =  (8+6j)  | alfa =  40  | parcial =  (7.685504834121464e+103+3.641221642669427e+103j)\n",
      "\tv =  (8+6j)  | alfa =  50  | parcial =  (5.101747367514257e+129-8.264241121924618e+129j)\n",
      "v =  (8+6j)  | soma =  (5.101747367514257e+129-8.264241121924618e+129j) \n",
      "\n",
      "\tv =  (9+6j)  | alfa =  10  | parcial =  (-2.5585169040047426e+25-5.104753981512018e+25j)\n",
      "\tv =  (9+6j)  | alfa =  30  | parcial =  (-7.330614624034302e+77-1.3110002564295378e+77j)\n",
      "\tv =  (9+6j)  | alfa =  40  | parcial =  (-2.412633530712835e+103-8.155040101239771e+103j)\n",
      "\tv =  (9+6j)  | alfa =  50  | parcial =  (7.091341950939289e+129-6.636141714738848e+129j)\n",
      "v =  (9+6j)  | soma =  (7.091341950939289e+129-6.636141714738848e+129j) \n",
      "\n",
      "\tv =  (10+6j)  | alfa =  10  | parcial =  (4.923872622650312e+25+2.8913665204805063e+25j)\n",
      "\tv =  (10+6j)  | alfa =  30  | parcial =  (1.6455177822181625e+76-7.445102762940746e+77j)\n",
      "\tv =  (10+6j)  | alfa =  40  | parcial =  (-4.467350573219723e+103+7.236591632965209e+103j)\n",
      "\tv =  (10+6j)  | alfa =  50  | parcial =  (8.584060790640546e+129-4.5430615080401596e+129j)\n",
      "v =  (10+6j)  | soma =  (8.584060790640546e+129-4.5430615080401596e+129j) \n",
      "\n"
     ]
    }
   ],
   "source": [
    "for v in v_pos:\n",
    "    soma = 0\n",
    "    for i in range(len(alfa)):\n",
    "        parcial = (-1)**i * np.cos(v * alfa[i])\n",
    "        soma += parcial\n",
    "        print('\\tv = ', v, ' | alfa = ', alfa[i], ' | parcial = ', parcial)\n",
    "    print('v = ', v, ' | soma = ', soma, '\\n')"
   ]
  },
  {
   "cell_type": "code",
   "execution_count": 24,
   "metadata": {},
   "outputs": [
    {
     "data": {
      "text/plain": [
       "array([], dtype=complex128)"
      ]
     },
     "execution_count": 24,
     "metadata": {},
     "output_type": "execute_result"
    }
   ],
   "source": [
    "v_neg"
   ]
  },
  {
   "cell_type": "code",
   "execution_count": 20,
   "metadata": {},
   "outputs": [
    {
     "data": {
      "text/plain": [
       "(-11+66j)"
      ]
     },
     "execution_count": 20,
     "metadata": {},
     "output_type": "execute_result"
    }
   ],
   "source": [
    "v_initial_neg*11"
   ]
  },
  {
   "cell_type": "code",
   "execution_count": 30,
   "metadata": {},
   "outputs": [],
   "source": []
  },
  {
   "cell_type": "code",
   "execution_count": null,
   "metadata": {},
   "outputs": [],
   "source": []
  }
 ],
 "metadata": {
  "kernelspec": {
   "display_name": "Python 3",
   "language": "python",
   "name": "python3"
  },
  "language_info": {
   "codemirror_mode": {
    "name": "ipython",
    "version": 3
   },
   "file_extension": ".py",
   "mimetype": "text/x-python",
   "name": "python",
   "nbconvert_exporter": "python",
   "pygments_lexer": "ipython3",
   "version": "3.7.5"
  }
 },
 "nbformat": 4,
 "nbformat_minor": 2
}
