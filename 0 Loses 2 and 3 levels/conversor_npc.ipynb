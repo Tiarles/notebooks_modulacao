{
 "cells": [
  {
   "cell_type": "markdown",
   "metadata": {},
   "source": [
    "# Perdas do Conversor NPC\n",
    "## Perdas de comutação e Perdas de Condução"
   ]
  },
  {
   "cell_type": "code",
   "execution_count": 1,
   "metadata": {},
   "outputs": [],
   "source": [
    "import numpy as np\n",
    "import matplotlib.pyplot as plt"
   ]
  },
  {
   "cell_type": "code",
   "execution_count": 2,
   "metadata": {},
   "outputs": [],
   "source": [
    "def detectCommutation(y):\n",
    "    \"\"\"\n",
    "    The function returns 1 where the signal has a positive commutation and\n",
    "    -1 where the signal has a negative commutation.\n",
    "\n",
    "    :param y: (numpy.array) The signal to the commutation analysis.\n",
    "    :return: numpy.array\n",
    "    \"\"\"\n",
    "    y1 = y[:-1]\n",
    "    y2 = y[1:]\n",
    "\n",
    "    diff = y2 - y1\n",
    "\n",
    "    return y1, y2, diff\n",
    "\n",
    "\n",
    "def rmsValue(signal):\n",
    "    \"\"\"\n",
    "    Calculate the RMS value.\n",
    "    :param signal: (numpy.array) The signal to do the RMS calculation.\n",
    "    :return: float\n",
    "    \"\"\"\n",
    "\n",
    "    return np.sqrt(np.sum(np.power(signal, 2)) / signal.size)\n",
    "\n",
    "\n",
    "def conductionLoss_function(Vx0, Rx0, current):\n",
    "    \"\"\"\n",
    "    x is CE (Collector-Emitter) for IGBTs and F (Forward) for diodes\n",
    "    \"\"\"\n",
    "\n",
    "    return Vx0 * np.mean(current) + Rx0 * np.power(rmsValue(current), 2)\n"
   ]
  },
  {
   "cell_type": "code",
   "execution_count": 3,
   "metadata": {},
   "outputs": [],
   "source": [
    "def tableSwitchingLosses3(\n",
    "    switch_s1, switch_s2, current, duration, Vdc_converter,\n",
    "    eon_params1=[6.61365789e-11, 7.07476943e-08, 4.98733483e-05, 2.58300197e-04],\n",
    "    eoff_params1=[ 1.30001782e-10, -1.55596680e-07,  1.49277835e-04, -1.42146582e-04],\n",
    "    erec_params1=[ 9.18281788e-11, -1.86522453e-07,  1.26916359e-04, -3.31200108e-04],\n",
    "    eon_params2=[ 2.48136613e-11, -1.86552515e-08,  4.05037654e-05,  7.55983114e-05],\n",
    "    eoff_params2=[ 1.19125387e-10, -1.26717009e-07,  1.48696175e-04, -2.81543803e-04],\n",
    "    erec_params2=[ 1.80895231e-10, -2.35704421e-07,  1.27996462e-04, -2.08736552e-04],\n",
    "    Vce_datasheet=600):\n",
    "    \"\"\"\n",
    "    Calculate the switching loses to a 3-level inverter, a NPC leg.\n",
    "\n",
    "    Curves:\n",
    "        * eon_params1, eoff_params1 and erec_params1: IGBT1/DIODE5\n",
    "        * eon_params2, eoff_params2 and erec_params2: IGBT2/DIODE1\n",
    "\n",
    "    Default values used and more information is available (to measure) in:\n",
    "    https://www.semikron.com/dl/service-support/downloads/download/semikron-datasheet-skim301mli12e4-23918880.pdf\n",
    "\n",
    "    :param switch_s1: (list or array-like) The command of the top switch.\n",
    "    :param switch_s2: (list or array-like) The command of the bottom switch.\n",
    "    :param current: (list or array-like) The current that crosses the converter.\n",
    "    :param duration: (float) The total duration of the signals ``switch_s1`` and ``current``.\n",
    "        For power calculation in Watts.\n",
    "    :param Vcc_converter: (float) The DC bus voltage value of the converter.\n",
    "    :param eon_params1: (list or array-like) Coefficients of the curve Eon losses for IGBT1/DIODE5.\n",
    "    :param eoff_params1: (list or array-like) Coefficients of the curve Eoff losses for IGBT1/DIODE5.\n",
    "    :param erec_params1: (list or array-like) Coefficients of the curve Erec losses for IGBT1/DIODE5.\n",
    "    :param eon_params2: (list or array-like) Coefficients of the curve Eon losses for IGBT2/DIODE1.\n",
    "    :param eoff_params2: (list or array-like) Coefficients of the curve Eoff losses for IGBT2/DIODE1.\n",
    "    :param erec_params2: (list or array-like) Coefficients of the curve Erec losses for IGBT2/DIODE1.\n",
    "    :param Vcc_datasheet: (float) The DC voltage value for the curves reference in datasheet.\n",
    "    :return: tuple of dicts\n",
    "    \"\"\"\n",
    "\n",
    "    # Bring the signal to the numpy.array type\n",
    "    switch_s1 = np.array(switch_s1)\n",
    "    switch_s2 = np.array(switch_s2)\n",
    "\n",
    "    current = np.array(current)\n",
    "\n",
    "    # Creating the polynomials from the coefficients and put in the real DC Bus voltage\n",
    "    eon1 = (Vdc_converter/2)/Vce_datasheet * np.poly1d(eon_params1)\n",
    "    eoff1 = (Vdc_converter/2)/Vce_datasheet * np.poly1d(eoff_params1)\n",
    "    erec1 = (Vdc_converter/2)/Vce_datasheet * np.poly1d(erec_params1)\n",
    "    eon2 = (Vdc_converter/2)/Vce_datasheet * np.poly1d(eon_params2)\n",
    "    eoff2 = (Vdc_converter/2)/Vce_datasheet * np.poly1d(eoff_params2)\n",
    "    erec2 = (Vdc_converter/2)/Vce_datasheet * np.poly1d(erec_params2)\n",
    "\n",
    "    # Detect the commutation in top and bottom switches\n",
    "    _, _, commut1 = detectCommutation(switch_s1)\n",
    "    _, _, commut2 = detectCommutation(switch_s2)\n",
    "\n",
    "    # Detect the current direction\n",
    "    current0 = current[1:]\n",
    "\n",
    "    # Taking the index where the current is positive and negative\n",
    "    pos_current = current0 >= 0\n",
    "    neg_current = current0 < 0\n",
    "\n",
    "    # Create the vectors called stateX where X is:\n",
    "    #    -> A: The commutation to neutral point to positive (0 -> P)\n",
    "    #    -> B: The commutation to positive point to neutral (P -> 0)\n",
    "    #    -> C: The commutation to neutral point to negative (0 -> N)\n",
    "    #    -> D: The commutation to negative point to neutral (N -> 0)\n",
    "    stateA = commut1 == 1\n",
    "    stateB = commut1 == -1\n",
    "    stateC = commut2 == -1\n",
    "    stateD = commut2 == 1\n",
    "\n",
    "    # And for each state we have a different current direction\n",
    "    stateA_cur_pos = np.abs(stateA * pos_current)\n",
    "    stateA_cur_neg = np.abs(stateA * neg_current)\n",
    "\n",
    "    stateB_cur_pos = np.abs(stateB * pos_current)\n",
    "    stateB_cur_neg = np.abs(stateB * neg_current)\n",
    "\n",
    "    stateC_cur_pos = np.abs(stateC * pos_current)\n",
    "    stateC_cur_neg = np.abs(stateC * neg_current)\n",
    "\n",
    "    stateD_cur_pos = np.abs(stateD * pos_current)\n",
    "    stateD_cur_neg = np.abs(stateD * neg_current)\n",
    "\n",
    "    # For 'S1'\n",
    "    s1_eon = eon1(np.abs(current0[stateA_cur_pos]))\n",
    "    s1_eoff = eoff1(np.abs(current0[stateB_cur_pos]))\n",
    "\n",
    "    # For 'S2'\n",
    "    s2_eon = eon2(np.abs(current0[stateD_cur_pos]))\n",
    "    s2_eoff = eoff2(np.abs(current0[stateC_cur_pos]))\n",
    "\n",
    "    # For 'S3'\n",
    "    s3_eon = eon2(np.abs(current0[stateB_cur_neg]))\n",
    "    s3_eoff = eoff2(np.abs(current0[stateA_cur_neg]))\n",
    "\n",
    "    # For 'S4'\n",
    "    s4_eon = eon1(np.abs(current0[stateC_cur_neg]))\n",
    "    s4_eoff = eoff1(np.abs(current0[stateD_cur_neg]))\n",
    "\n",
    "    ###\n",
    "\n",
    "    # For 'D1'\n",
    "    d1_rec = erec2(np.abs(current0[stateB_cur_neg]))\n",
    "\n",
    "    # For 'D4'\n",
    "    d4_rec = erec2(np.abs(current0[stateD_cur_pos]))\n",
    "\n",
    "    # For 'D5'\n",
    "    d5_rec = erec1(np.abs(current0[stateA_cur_pos]))\n",
    "\n",
    "    # For 'D6'\n",
    "    d6_rec = erec1(np.abs(current0[stateC_cur_neg]))\n",
    "\n",
    "    # Prevent negative values of all polynomials\n",
    "    s1_eon[s1_eon < 0] = 0\n",
    "    s1_eoff[s1_eoff < 0] = 0\n",
    "    s2_eon[s2_eon < 0] = 0\n",
    "    s2_eoff[s2_eoff < 0] = 0\n",
    "    s3_eon[s3_eon < 0] = 0\n",
    "    s3_eoff[s3_eoff < 0] = 0\n",
    "    s4_eon[s4_eon < 0] = 0\n",
    "    s4_eoff[s4_eoff < 0] = 0\n",
    "    d1_rec[d1_rec < 0] = 0\n",
    "    d4_rec[d4_rec < 0] = 0\n",
    "    d5_rec[d5_rec < 0] = 0\n",
    "    d6_rec[d6_rec < 0] = 0\n",
    "\n",
    "    P_on = {\n",
    "        'S1': 1 / duration * np.sum(s1_eon),\n",
    "        'S2': 1 / duration * np.sum(s2_eon),\n",
    "        'S3': 1 / duration * np.sum(s3_eon),\n",
    "        'S4': 1 / duration * np.sum(s4_eon),\n",
    "\n",
    "        'D1': 0.0,\n",
    "        'D4': 0.0,\n",
    "\n",
    "        'D5': 0.0,\n",
    "        'D6': 0.0,\n",
    "        'D2': 0.0,\n",
    "        'D3': 0.0}\n",
    "\n",
    "    P_off = {\n",
    "        'S1': 1 / duration * np.sum(s1_eoff),\n",
    "        'S2': 1 / duration * np.sum(s2_eoff),\n",
    "        'S3': 1 / duration * np.sum(s3_eoff),\n",
    "        'S4': 1 / duration * np.sum(s4_eoff),\n",
    "\n",
    "        'D1': 1 / duration * np.sum(d1_rec),\n",
    "        'D4': 1 / duration * np.sum(d4_rec),\n",
    "\n",
    "        'D5': 1 / duration * np.sum(d5_rec),\n",
    "        'D6': 1 / duration * np.sum(d6_rec),\n",
    "        'D2': 0.0,\n",
    "        'D3': 0.0}\n",
    "\n",
    "    return P_on, P_off"
   ]
  },
  {
   "cell_type": "code",
   "execution_count": 4,
   "metadata": {},
   "outputs": [],
   "source": [
    "def tableConductionLosses3(switch_s1, switch_s2, current,\n",
    "                           VCE0_IGBT1=.8, VCE0_IGBT2=.8,\n",
    "                           VF0_DIODE1=1.30, VF0_DIODE2=1.30,\n",
    "                           VF0_Diode5=1.30, RCE0_IGBT1=3.3*1e-3,\n",
    "                           RCE0_IGBT2=3.3*1e-3, RF0_DIODE1=3*1e-3,\n",
    "                           RF0_DIODE2=3*1e-3, RF0_DIODE5=2.8e-3):\n",
    "    \"\"\"\n",
    "    Calculate the conduction loses to a 3-level inverter, a NPC leg.\n",
    "\n",
    "    Default values used is available in:\n",
    "    https://www.semikron.com/dl/service-support/downloads/download/semikron-datasheet-skim301mli12e4-23918880.pdf\n",
    "\n",
    "    :param switch_s1: (list or array-like) The command of the top switch.\n",
    "    :param switch_s2: (list or array-like) The command of the bottom switch.\n",
    "    :param current: (list or array-like) The current that crosses the converter.\n",
    "    :param VCE0_IGBT1: (float) Is the threshold voltage of the IGBT1 switch, present in the datasheet of the\n",
    "        converter. (VCE0, 25°C, typ)\n",
    "    :param VCE0_IGBT2: (float) Is the threshold voltage of the IGBT2 switch, present in the datasheet of the\n",
    "        converter. (VCE0, 25°C, typ)\n",
    "    :param VF0_DIODE1: (float) Is the threshold voltage of the DIODE1 switch, present in the datasheet of the\n",
    "        converter. (VF0, 25°C, typ)\n",
    "    :param VF0_DIODE2: (float) Is the threshold voltage of the DIODE2 switch, present in the datasheet of the\n",
    "        converter. (VF0, 25°C, typ)\n",
    "    :param VF0_Diode5: (float) Is the threshold voltage of the DIODE5 switch, present in the datasheet of the\n",
    "        converter. (VF0, 25°C, typ)\n",
    "\n",
    "    :param RCE0_IGBT1: (float) Is the series resistance of the IGBT1 switch, present in the datasheet of the\n",
    "        converter. (rCE, 25°C, typ)\n",
    "    :param RCE0_IGBT2: (float) Is the series resistance of the IGBT2 switch, present in the datasheet of the\n",
    "        converter. (rCE, 25°C, typ)\n",
    "    :param RF0_DIODE1: (float) Is the series resistance of the DIODE1, present in the datasheet of the converter.\n",
    "        (rF, 25°C, typ)\n",
    "    :param RF0_DIODE2: (float) Is the series resistance of the DIODE2, present in the datasheet of the converter.\n",
    "        (rF, 25°C, typ)\n",
    "    :param RF0_DIODE5: (float) Is the series resistance of the DIODE5, present in the datasheet of the converter.\n",
    "        (rF, 25°C, typ)\n",
    "    :return: dict\n",
    "    \"\"\"\n",
    "\n",
    "    # Bring the signal to the numpy.array type\n",
    "    switch_s1 = np.array(switch_s1)\n",
    "    switch_s2 = np.array(switch_s2)\n",
    "    current = np.array(current)\n",
    "\n",
    "    # Creating the current vectors\n",
    "    pos_current = np.zeros(current.size)\n",
    "    neg_current = np.zeros(current.size)\n",
    "\n",
    "    pos_current[current >= 0] = current[current >= 0]\n",
    "    neg_current[current < 0] = current[current < 0]\n",
    "\n",
    "    # Creating the logical moments of conduction:\n",
    "    #    -> S1_S2 : When the 2 top IGBTs are conducting\n",
    "    #    -> S2_S3 : When the 2 middle IGBTs are conducting\n",
    "    #    -> S3_S4 : When the 2 bottom IGBTs are conducting\n",
    "    S1_S2 = np.logical_and(switch_s1, switch_s2)\n",
    "    S2_S3 = np.logical_and(np.logical_not(switch_s1), switch_s2)\n",
    "    S3_S4 = np.logical_and(np.logical_not(switch_s1),\n",
    "                           np.logical_not(switch_s2))\n",
    "\n",
    "    current_S1_S2 = np.abs(pos_current * S1_S2)\n",
    "    current_D1_D2 = np.abs(neg_current * S1_S2)\n",
    "\n",
    "    current_S2_D5 = np.abs(pos_current * S2_S3)\n",
    "    current_S3_D6 = np.abs(neg_current * S2_S3)\n",
    "\n",
    "    current_D3_D4 = np.abs(pos_current * S3_S4)\n",
    "    current_S3_S4 = np.abs(neg_current * S3_S4)\n",
    "\n",
    "    s1_cd = conductionLoss_function(VCE0_IGBT1, RCE0_IGBT1, current_S1_S2)\n",
    "    s2_cd = (conductionLoss_function(VCE0_IGBT2, RCE0_IGBT2, current_S1_S2) +\n",
    "             conductionLoss_function(VCE0_IGBT2, RCE0_IGBT2, current_S2_D5))\n",
    "\n",
    "    s3_cd = (conductionLoss_function(VCE0_IGBT2, RCE0_IGBT2, current_S3_D6) +\n",
    "             conductionLoss_function(VCE0_IGBT2, RCE0_IGBT2, current_S3_S4))\n",
    "\n",
    "    s4_cd = conductionLoss_function(VCE0_IGBT1, RCE0_IGBT1, current_S3_S4)\n",
    "\n",
    "    d1_cd = conductionLoss_function(VF0_DIODE1, RF0_DIODE1, current_D1_D2)\n",
    "\n",
    "    d2_cd = conductionLoss_function(VF0_DIODE2, RF0_DIODE2, current_D1_D2)\n",
    "    d3_cd = conductionLoss_function(VF0_DIODE2, RF0_DIODE2, current_D3_D4)\n",
    "\n",
    "    d4_cd = conductionLoss_function(VF0_DIODE1, RF0_DIODE1, current_D3_D4)\n",
    "\n",
    "    d5_cd = conductionLoss_function(VF0_Diode5, RF0_DIODE5, current_S2_D5)\n",
    "    d6_cd = conductionLoss_function(VF0_Diode5, RF0_DIODE5, current_S3_D6)\n",
    "\n",
    "    P_cd = {'S1': s1_cd, 'S2': s2_cd, 'S3': s3_cd,\n",
    "            'S4': s4_cd, 'D1': d1_cd, 'D2': d2_cd,\n",
    "            'D3': d3_cd, 'D4': d4_cd, 'D5': d5_cd,\n",
    "            'D6': d6_cd}\n",
    "\n",
    "    return P_cd"
   ]
  },
  {
   "cell_type": "markdown",
   "metadata": {},
   "source": [
    "## Testing the Switching Losses\n",
    "### 1. Testando a detecção de comutação"
   ]
  },
  {
   "cell_type": "code",
   "execution_count": 5,
   "metadata": {},
   "outputs": [
    {
     "name": "stdout",
     "output_type": "stream",
     "text": [
      "Trocas de Estado:\n",
      " S2 !S1  ->  S1  S2:   2\n",
      " S1  S2  ->  S2 !S1:   3\n",
      " S2 !S1  -> !S1 !S2:   3\n",
      "!S1 !S2  ->  S2 !S1:   2\n"
     ]
    }
   ],
   "source": [
    "import numpy as np\n",
    "import matplotlib.pyplot as plt\n",
    "\n",
    "y = np.array(list('AABBBBCCBBBAABBAABBBCCCBBBCC'))\n",
    "\n",
    "index1 = y == 'A'\n",
    "index2 = y == 'B'\n",
    "index3 = y == 'C'\n",
    "\n",
    "s1 = np.zeros(len(y))\n",
    "s2 = np.zeros(len(y))\n",
    "s3 = np.zeros(len(y))\n",
    "s4 = np.zeros(len(y))\n",
    "\n",
    "s1[index1] = 1\n",
    "s2[index1] = 1\n",
    "\n",
    "s2[index2] = 1\n",
    "s3[index2] = 1\n",
    "\n",
    "s3[index3] = 1\n",
    "s4[index3] = 1\n",
    "\n",
    "print('Trocas de Estado:')\n",
    "\n",
    "print(' S2 !S1  ->  S1  S2: %3d'   % 2)\n",
    "print(' S1  S2  ->  S2 !S1: %3d'  % 3)\n",
    "print(' S2 !S1  -> !S1 !S2: %3d' % 3)\n",
    "print('!S1 !S2  ->  S2 !S1: %3d'  % 2)"
   ]
  },
  {
   "cell_type": "code",
   "execution_count": 6,
   "metadata": {},
   "outputs": [
    {
     "data": {
      "image/png": "[encoded data removed]",
      "text/plain": [
       "<Figure size 432x288 with 1 Axes>"
      ]
     },
     "metadata": {
      "needs_background": "light"
     },
     "output_type": "display_data"
    }
   ],
   "source": [
    "plt.step(range(s1.size), s1+3.75, where='post', label='$S_1$')\n",
    "plt.step(range(s2.size), s2+2.5, where='post', label='$S_2$')\n",
    "plt.step(range(s3.size), s3+1.25, where='post', label='$S_3$')\n",
    "plt.step(range(s4.size), s4, where='post', label='$S_4$')\n",
    "plt.legend(loc=7, framealpha=.3)\n",
    "xmin, _ = plt.xlim()\n",
    "plt.grid()\n",
    "plt.show()"
   ]
  },
  {
   "cell_type": "markdown",
   "metadata": {},
   "source": [
    "### 2. Mostrando o sinal simulado para o teste de perdas de comutação"
   ]
  },
  {
   "cell_type": "code",
   "execution_count": 7,
   "metadata": {},
   "outputs": [
    {
     "data": {
      "image/png": "[encoded data removed]",
      "text/plain": [
       "<Figure size 432x288 with 1 Axes>"
      ]
     },
     "metadata": {
      "needs_background": "light"
     },
     "output_type": "display_data"
    }
   ],
   "source": [
    "size = y.size\n",
    "\n",
    "t = np.linspace(0, 2/60, size)\n",
    "sim_current = 1000*np.sin(2*np.pi*60*t)\n",
    "\n",
    "plt.plot(sim_current, label='sim_current')\n",
    "plt.grid(True)\n",
    "plt.legend()\n",
    "plt.show()"
   ]
  },
  {
   "cell_type": "markdown",
   "metadata": {},
   "source": [
    "#### 2.1 Obtendo os parâmetros para as funções"
   ]
  },
  {
   "cell_type": "code",
   "execution_count": 8,
   "metadata": {},
   "outputs": [],
   "source": [
    "# Manual da Semikron (SKiM301MLI12E4)\n",
    "\n",
    "# Curvas da Fig. 3: Typ. IGBT1 & Diode5 turn-on /-off energy = f (IC)\n",
    "\n",
    "Ic_pts1   = [150., 200. , 300. , 400., 500., 600.]\n",
    "\n",
    "eon_pts1  = [ 10.,  14. ,  22.5,  36., 55. ,  70.]\n",
    "erec_pts1 = [ 15.,  17.5,  24. ,  26., 27.5,  29.]\n",
    "eoff_pts1 = [ 20.,  25. ,  34. ,  43., 52. ,  61.]\n",
    "\n",
    "eon_params1  = np.polyfit(Ic_pts1, eon_pts1,  3) / 1e3\n",
    "eoff_params1 = np.polyfit(Ic_pts1, eoff_pts1, 3) / 1e3\n",
    "erec_params1 = np.polyfit(Ic_pts1, erec_pts1, 3) / 1e3\n",
    "\n",
    "eon1  = np.poly1d(eon_params1)\n",
    "eoff1 = np.poly1d(eoff_params1)\n",
    "erec1 = np.poly1d(erec_params1)\n",
    "\n",
    "# Curvas da Fig. 15: Typ. IGBT2 & Diode1 turn-on /-off energy = f (IC)\n",
    "\n",
    "Ic_pts2   = [150., 200. , 300. , 400., 500., 600.]\n",
    "\n",
    "eon_pts2  = [  5.,  7. ,  11. ,  15., 19. ,  23.]\n",
    "erec_pts2 = [ 15.,  17.,  22.5,  25., 27.5,  31.]\n",
    "eoff_pts2 = [ 20.,  25. , 36. ,  47., 58. ,  69.]\n",
    "\n",
    "eon_params2  = np.polyfit(Ic_pts2, eon_pts2,  3) / 1e3\n",
    "eoff_params2 = np.polyfit(Ic_pts2, eoff_pts2, 3) / 1e3\n",
    "erec_params2 = np.polyfit(Ic_pts2, erec_pts2, 3) / 1e3\n",
    "\n",
    "eon2  = np.poly1d(eon_params2)\n",
    "eoff2 = np.poly1d(eoff_params2)\n",
    "erec2 = np.poly1d(erec_params2)"
   ]
  },
  {
   "cell_type": "markdown",
   "metadata": {},
   "source": [
    "### 3. Parametrizando as curvas $E_{on}$, $E_{off}$ e $E_{rec}$, retiradas de um manual da Semikron para o teste das perdas em comutação com os sinais acima"
   ]
  },
  {
   "cell_type": "code",
   "execution_count": 9,
   "metadata": {},
   "outputs": [
    {
     "name": "stdout",
     "output_type": "stream",
     "text": [
      "Typ. IGBT1 & Diode5\n",
      "eon_params: [-4.27e-10  6.25e-07 -1.34e-04  1.82e-02]\n",
      "eoff_params: [ 3.73e-11 -4.70e-08  1.09e-04  4.71e-03]\n",
      "erec_params: [ 1.75e-10 -2.73e-07  1.54e-04 -2.92e-03]\n",
      "\n",
      "Typ. IGBT2 & Diode1\n",
      "eon_params: [-4.62e-25  1.56e-22  4.00e-05 -1.00e-03]\n",
      "eoff_params: [-3.73e-11  4.70e-08  9.14e-05  5.29e-03]\n",
      "erec_params: [ 1.66e-10 -2.18e-07  1.21e-04  8.47e-04]\n"
     ]
    }
   ],
   "source": [
    "# Parâmetros de um manual da Semikron (SKiM301MLI12E4)\n",
    "\n",
    "np.set_printoptions(precision=2)\n",
    "\n",
    "print('Typ. IGBT1 & Diode5')\n",
    "print('eon_params:', eon_params1)\n",
    "print('eoff_params:', eoff_params1)\n",
    "print('erec_params:', erec_params1)\n",
    "\n",
    "print('\\nTyp. IGBT2 & Diode1')\n",
    "print('eon_params:', eon_params2)\n",
    "print('eoff_params:', eoff_params2)\n",
    "print('erec_params:', erec_params2)\n",
    "\n",
    "Vcc = 600\n",
    "\n",
    "Vo_IGBT1 = 2.05 # [V]\n",
    "Ro_IGBT1 = 3.8*1e-3 # [ohm]\n",
    "\n",
    "Vo_IGBT2 = 2.05 # [V]\n",
    "Ro_IGBT2 = 3.8*1e-3 # [ohm]\n",
    "\n",
    "Vo_Diode1 = 2.55 #[V] \n",
    "Ro_Diode1 = 3.4*1e-3 # [ohm]\n",
    "\n",
    "Vo_Diode2 = 2.55 #[V] \n",
    "Ro_Diode2 = 3.4*1e-3 # [ohm]\n",
    "\n",
    "Vo_Diode5 = 2.49 #[V] \n",
    "Ro_Diode5 = 3.2 *1e-3 # [ohm]"
   ]
  },
  {
   "cell_type": "code",
   "execution_count": 10,
   "metadata": {},
   "outputs": [],
   "source": [
    "P_on, P_off = tableSwitchingLosses3(\n",
    "    s1, s2, sim_current, t[-1], \n",
    "    eon1, eoff1, erec1, eon2, eoff2, erec2)"
   ]
  },
  {
   "cell_type": "markdown",
   "metadata": {},
   "source": [
    "### 7. Resultado Final das potências dissipadas de cada um dos semicondutores $S_1$, $S_2$, $D_1$ e $D_2$ , em Watts"
   ]
  },
  {
   "cell_type": "code",
   "execution_count": 11,
   "metadata": {},
   "outputs": [
    {
     "data": {
      "image/png": "[encoded data removed]",
      "text/plain": [
       "<Figure size 432x288 with 1 Axes>"
      ]
     },
     "metadata": {
      "needs_background": "light"
     },
     "output_type": "display_data"
    },
    {
     "data": {
      "image/png": "[encoded data removed]",
      "text/plain": [
       "<Figure size 432x288 with 1 Axes>"
      ]
     },
     "metadata": {
      "needs_background": "light"
     },
     "output_type": "display_data"
    }
   ],
   "source": [
    "plt.plot([0], P_on['S1']+P_off['S1'], 'o', label='Power Switching (S1)')\n",
    "plt.plot([1], P_on['S2']+P_off['S2'], 'o', label='Power Switching (S2)')\n",
    "plt.plot([2], P_on['S3']+P_off['S3'], 'o', label='Power Switching (S3)')\n",
    "plt.plot([3], P_on['S4']+P_off['S4'], 'o', label='Power Switching (S4)')\n",
    "plt.grid()\n",
    "plt.legend()\n",
    "plt.show()\n",
    "\n",
    "plt.plot([4], P_on['D1']+P_off['D1'], 'o', label='Power Switching (D1)')\n",
    "plt.plot([5], P_on['D4']+P_off['D4'], 'o', label='Power Switching (D4)')\n",
    "plt.plot([6], P_on['D5']+P_off['D5'], 'o', label='Power Switching (D5)')\n",
    "plt.plot([7], P_on['D6']+P_off['D6'], 'o', label='Power Switching (D6)')\n",
    "plt.grid()\n",
    "plt.legend()\n",
    "plt.show()"
   ]
  },
  {
   "cell_type": "markdown",
   "metadata": {},
   "source": [
    "### Ap. Gráfico com os polinômios gerados para cada equação de energia"
   ]
  },
  {
   "cell_type": "code",
   "execution_count": 12,
   "metadata": {},
   "outputs": [],
   "source": [
    "i = np.linspace(0, 1000, 200)\n",
    "\n",
    "eon  = eon2\n",
    "eoff = eoff2\n",
    "erec = erec2"
   ]
  },
  {
   "cell_type": "code",
   "execution_count": 13,
   "metadata": {},
   "outputs": [],
   "source": [
    "eon_p  = eon(i)\n",
    "eoff_p = eoff(i)\n",
    "erec_p = erec(i)"
   ]
  },
  {
   "cell_type": "code",
   "execution_count": 14,
   "metadata": {},
   "outputs": [
    {
     "data": {
      "image/png": "[encoded data removed]",
      "text/plain": [
       "<Figure size 432x288 with 1 Axes>"
      ]
     },
     "metadata": {
      "needs_background": "light"
     },
     "output_type": "display_data"
    }
   ],
   "source": [
    "plt.plot(i, eon_p *1e3, label='Poly On')\n",
    "plt.plot(i, eoff_p*1e3, label='Poly Off')\n",
    "plt.plot(i, erec_p*1e3, label='Poly Rec')\n",
    "plt.title('Polynomial Regression') \n",
    "plt.xlabel('$I_c$ [A]') \n",
    "plt.ylabel('$E_{on}$, $E_{off}$, $E_{rec}$ [mJ]')\n",
    "plt.grid()\n",
    "plt.legend()\n",
    "# plt.xlim(100, 600)\n",
    "plt.show()"
   ]
  },
  {
   "cell_type": "markdown",
   "metadata": {},
   "source": [
    "## Testing the Conduction Losses"
   ]
  },
  {
   "cell_type": "markdown",
   "metadata": {},
   "source": [
    "### 1. Generating the signals for test"
   ]
  },
  {
   "cell_type": "code",
   "execution_count": 15,
   "metadata": {},
   "outputs": [],
   "source": [
    "Vdc = 800"
   ]
  },
  {
   "cell_type": "code",
   "execution_count": 16,
   "metadata": {},
   "outputs": [
    {
     "data": {
      "image/png": "[encoded data removed]",
      "text/plain": [
       "<Figure size 432x288 with 1 Axes>"
      ]
     },
     "metadata": {
      "needs_background": "light"
     },
     "output_type": "display_data"
    }
   ],
   "source": [
    "t = np.arange(0, s1.size, 1)\n",
    "\n",
    "plt.step(t, s1+1.5, where='post')\n",
    "plt.plot(s1+1.5, 'ko')\n",
    "plt.step(t, s2, where='post')\n",
    "plt.plot(s2, 'ko')\n",
    "plt.show()"
   ]
  },
  {
   "cell_type": "code",
   "execution_count": 17,
   "metadata": {},
   "outputs": [
    {
     "data": {
      "text/plain": [
       "[<matplotlib.lines.Line2D at 0x1facf09fd30>]"
      ]
     },
     "execution_count": 17,
     "metadata": {},
     "output_type": "execute_result"
    },
    {
     "data": {
      "image/png": "[encoded data removed]",
      "text/plain": [
       "<Figure size 432x288 with 1 Axes>"
      ]
     },
     "metadata": {
      "needs_background": "light"
     },
     "output_type": "display_data"
    }
   ],
   "source": [
    "plt.plot(sim_current)"
   ]
  },
  {
   "cell_type": "code",
   "execution_count": 19,
   "metadata": {},
   "outputs": [],
   "source": [
    "P_cd = tableConductionLosses3(\n",
    "    s1, s2, sim_current, \n",
    "    Vo_IGBT1, Vo_IGBT2, \n",
    "    Vo_Diode1, Vo_Diode2, Vo_Diode2,\n",
    "    Ro_IGBT1, Ro_IGBT2,\n",
    "    Ro_Diode1, Ro_Diode2, Ro_Diode5)"
   ]
  },
  {
   "cell_type": "markdown",
   "metadata": {},
   "source": [
    "### 6. Resultado Final, as perdas em comutação para cada uma dos semicondutores, em Watts"
   ]
  },
  {
   "cell_type": "code",
   "execution_count": 22,
   "metadata": {},
   "outputs": [
    {
     "data": {
      "image/png": "[encoded data removed]",
      "text/plain": [
       "<Figure size 432x288 with 1 Axes>"
      ]
     },
     "metadata": {
      "needs_background": "light"
     },
     "output_type": "display_data"
    }
   ],
   "source": [
    "plt.plot([0], P_cd['S1'], 'o', label='Power Conduction (S1)')\n",
    "plt.plot([1], P_cd['S2'], 'o', label='Power Conduction (S2)')\n",
    "plt.plot([2], P_cd['S3'], 'o', label='Power Conduction (S3)')\n",
    "plt.plot([3], P_cd['S4'], 'o', label='Power Conduction (S4)')\n",
    "plt.plot([4], P_cd['D1'], 'o', label='Power Conduction (D1)')\n",
    "plt.plot([5], P_cd['D2'], 'o', label='Power Conduction (D2)')\n",
    "plt.plot([6], P_cd['D3'], 'o', label='Power Conduction (D3)')\n",
    "plt.plot([7], P_cd['D4'], 'o', label='Power Conduction (D4)')\n",
    "plt.plot([8], P_cd['D5'], 'o', label='Power Conduction (D5)')\n",
    "plt.plot([9], P_cd['D6'], 'o', label='Power Conduction (D6)')\n",
    "plt.grid()\n",
    "plt.legend()\n",
    "plt.show()"
   ]
  },
  {
   "cell_type": "code",
   "execution_count": null,
   "metadata": {},
   "outputs": [],
   "source": []
  }
 ],
 "metadata": {
  "kernelspec": {
   "display_name": "Python 3 (ipykernel)",
   "language": "python",
   "name": "python3"
  },
  "language_info": {
   "codemirror_mode": {
    "name": "ipython",
    "version": 3
   },
   "file_extension": ".py",
   "mimetype": "text/x-python",
   "name": "python",
   "nbconvert_exporter": "python",
   "pygments_lexer": "ipython3",
   "version": "3.8.4"
  }
 },
 "nbformat": 4,
 "nbformat_minor": 4
}
